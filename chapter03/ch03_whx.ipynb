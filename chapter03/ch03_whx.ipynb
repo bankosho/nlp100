{
 "cells": [
  {
   "cell_type": "markdown",
   "metadata": {},
   "source": [
    "## 20. JSONデータの読み込み"
   ]
  },
  {
   "cell_type": "markdown",
   "metadata": {},
   "source": [
    "Wikipedia記事のJSONファイルを読み込み，「イギリス」に関する記事本文を表示せよ．問題21-29では，ここで抽出した記事本文に対して実行せよ．"
   ]
  },
  {
   "cell_type": "code",
   "execution_count": 27,
   "metadata": {},
   "outputs": [],
   "source": [
    "import json\n",
    "with open(\"jawiki-country.json\") as fin,open(\"text.txt\",\"w\") as fout:\n",
    "    for news in fin:\n",
    "        line=json.loads(news)\n",
    "        if \"イギリス\" in line[\"title\"]:\n",
    "            fout.write(line[\"text\"])"
   ]
  },
  {
   "cell_type": "markdown",
   "metadata": {},
   "source": [
    "## 21. カテゴリ名を含む行を抽出"
   ]
  },
  {
   "cell_type": "markdown",
   "metadata": {},
   "source": [
    "記事中でカテゴリ名を宣言している行を抽出せよ"
   ]
  },
  {
   "cell_type": "code",
   "execution_count": 79,
   "metadata": {},
   "outputs": [
    {
     "name": "stdout",
     "output_type": "stream",
     "text": [
      "[[Category:イギリス|*]]\n",
      "[[Category:英連邦王国|*]]\n",
      "[[Category:G8加盟国]]\n",
      "[[Category:欧州連合加盟国]]\n",
      "[[Category:海洋国家]]\n",
      "[[Category:君主国]]\n",
      "[[Category:島国|くれいとふりてん]]\n",
      "[[Category:1801年に設立された州・地域]]\n"
     ]
    }
   ],
   "source": [
    "with open(\"text.txt\") as f:\n",
    "    text=f.read()\n",
    "a=re.finditer(r'.*?Category:.*',text)\n",
    "for x in a:\n",
    "    print(x.group())"
   ]
  },
  {
   "cell_type": "markdown",
   "metadata": {},
   "source": [
    "## 22. カテゴリ名の抽出"
   ]
  },
  {
   "cell_type": "markdown",
   "metadata": {},
   "source": [
    "\n",
    "記事のカテゴリ名を（行単位ではなく名前で）抽出せよ．"
   ]
  },
  {
   "cell_type": "code",
   "execution_count": 107,
   "metadata": {},
   "outputs": [
    {
     "name": "stdout",
     "output_type": "stream",
     "text": [
      "イギリス\n",
      "英連邦王国\n",
      "G8加盟国\n",
      "欧州連合加盟国\n",
      "海洋国家\n",
      "君主国\n",
      "島国\n",
      "1801年に設立された州・地域\n"
     ]
    }
   ],
   "source": [
    "b=re.finditer(r'.*?Category:(.*?)(\\|.*)?\\]\\]',text)\n",
    "for x in b:\n",
    "    print(x.group(1))"
   ]
  },
  {
   "cell_type": "markdown",
   "metadata": {},
   "source": [
    "## 23. セクション構造"
   ]
  },
  {
   "cell_type": "markdown",
   "metadata": {},
   "source": [
    "記事中に含まれるセクション名とそのレベル（例えば\"== セクション名 ==\"なら1）を表示せよ．"
   ]
  },
  {
   "cell_type": "code",
   "execution_count": 126,
   "metadata": {},
   "outputs": [
    {
     "name": "stdout",
     "output_type": "stream",
     "text": [
      "国名:1\n",
      "歴史:1\n",
      "地理:1\n",
      "気候:2\n",
      "政治:1\n",
      "外交と軍事:1\n",
      "地方行政区分:1\n",
      "主要都市:2\n",
      "科学技術:1\n",
      "経済:1\n",
      "鉱業:2\n",
      "農業:2\n",
      "貿易:2\n",
      "通貨:2\n",
      "企業:2\n",
      "交通:1\n",
      "道路:2\n",
      "鉄道:2\n",
      "海運:2\n",
      "航空:2\n",
      "通信:1\n",
      "国民:1\n",
      "言語:2\n",
      "宗教:2\n",
      "婚姻:2\n",
      "教育:2\n",
      "文化:1\n",
      "食文化:2\n",
      "文学:2\n",
      "哲学:2\n",
      "音楽:2\n",
      "イギリスのポピュラー音楽:3\n",
      "映画:2\n",
      "コメディ:2\n",
      "国花:2\n",
      "世界遺産:2\n",
      "祝祭日:2\n",
      "スポーツ:1\n",
      "サッカー:2\n",
      "競馬:2\n",
      "モータースポーツ:2\n",
      "脚注:1\n",
      "関連項目:1\n",
      "外部リンク:1\n"
     ]
    }
   ],
   "source": [
    "c=re.finditer(r'(={2,})\\s*(.*?)\\s*(={2,})',text)\n",
    "for x in c:\n",
    "    print(\"{}:{}\".format(x.group(2),len(x.group(1))-1))"
   ]
  },
  {
   "cell_type": "markdown",
   "metadata": {},
   "source": [
    "## 24. ファイル参照の抽出"
   ]
  },
  {
   "cell_type": "markdown",
   "metadata": {},
   "source": [
    "記事から参照されているメディアファイルをすべて抜き出せ"
   ]
  },
  {
   "cell_type": "code",
   "execution_count": 134,
   "metadata": {},
   "outputs": [
    {
     "name": "stdout",
     "output_type": "stream",
     "text": [
      "Royal Coat of Arms of the United Kingdom.svg\n",
      "Battle of Waterloo 1815.PNG\n",
      "The British Empire.png\n",
      "Uk topo en.jpg\n",
      "BenNevis2005.jpg\n",
      "Elizabeth II greets NASA GSFC employees, May 8, 2007 edit.jpg\n",
      "Palace of Westminster, London - Feb 2007.jpg\n",
      "David Cameron and Barack Obama at the G20 Summit in Toronto.jpg\n",
      "Soldiers Trooping the Colour, 16th June 2007.jpg\n",
      "Scotland Parliament Holyrood.jpg\n",
      "London.bankofengland.arp.jpg\n",
      "City of London skyline from London City Hall - Oct 2008.jpg\n",
      "Oil platform in the North SeaPros.jpg\n",
      "Eurostar at St Pancras Jan 2008.jpg\n",
      "Heathrow T5.jpg\n",
      "Anglospeak.svg\n",
      "CHANDOS3.jpg\n",
      "The Fabs.JPG\n",
      "PalaceOfWestminsterAtNight.jpg\n",
      "Westminster Abbey - West Door.jpg\n",
      "Edinburgh Cockburn St dsc06789.jpg\n",
      "Canterbury Cathedral - Portal Nave Cross-spire.jpeg\n",
      "Kew Gardens Palm House, London - July 2009.jpg\n",
      "2005-06-27 - United Kingdom - England - London - Greenwich.jpg\n",
      "Stonehenge2007 07 30.jpg\n",
      "Yard2.jpg\n",
      "Durham Kathedrale Nahaufnahme.jpg\n",
      "Roman Baths in Bath Spa, England - July 2006.jpg\n",
      "Fountains Abbey view02 2005-08-27.jpg\n",
      "Blenheim Palace IMG 3673.JPG\n",
      "Liverpool Pier Head by night.jpg\n",
      "Hadrian's Wall view near Greenhead.jpg\n",
      "London Tower (1).JPG\n",
      "Wembley Stadium, illuminated.jpg\n"
     ]
    }
   ],
   "source": [
    "d=re.finditer(r'(.*?)(ファイル|File|file):(.*?)\\|.*',text)\n",
    "for x in d:\n",
    "    print(x.group(3))"
   ]
  },
  {
   "cell_type": "markdown",
   "metadata": {},
   "source": [
    "## 25. テンプレートの抽出"
   ]
  },
  {
   "cell_type": "markdown",
   "metadata": {},
   "source": [
    "記事中に含まれる「基礎情報」テンプレートのフィールド名と値を抽出し，辞書オブジェクトとして格納せよ"
   ]
  },
  {
   "cell_type": "code",
   "execution_count": 163,
   "metadata": {},
   "outputs": [
    {
     "data": {
      "text/plain": [
       "[('略名', 'イギリス'),\n",
       " ('日本語国名', 'グレートブリテン及び北アイルランド連合王国'),\n",
       " ('公式国名',\n",
       "  '{{lang|en|United Kingdom of Great Britain and Northern Ireland}}<ref>英語以外での正式国名:<br/>\\n*{{lang|gd|An Rìoghachd Aonaichte na Breatainn Mhòr agus Eirinn mu Thuath}}（[[スコットランド・ゲール語]]）<br/>\\n*{{lang|cy|Teyrnas Gyfunol Prydain Fawr a Gogledd Iwerddon}}（[[ウェールズ語]]）<br/>\\n*{{lang|ga|Ríocht Aontaithe na Breataine Móire agus Tuaisceart na hÉireann}}（[[アイルランド語]]）<br/>\\n*{{lang|kw|An Rywvaneth Unys a Vreten Veur hag Iwerdhon Glédh}}（[[コーンウォール語]]）<br/>\\n*{{lang|sco|Unitit Kinrick o Great Breetain an Northren Ireland}}（[[スコットランド語]]）<br/>\\n**{{lang|sco|Claught Kängrick o Docht Brätain an Norlin Airlann}}、{{lang|sco|Unitet Kängdom o Great Brittain an Norlin Airlann}}（アルスター・スコットランド語）</ref>'),\n",
       " ('国旗画像', 'Flag of the United Kingdom.svg'),\n",
       " ('国章画像',\n",
       "  '[[ファイル:Royal Coat of Arms of the United Kingdom.svg|85px|イギリスの国章]]'),\n",
       " ('国章リンク', '（[[イギリスの国章|国章]]）'),\n",
       " ('標語', '{{lang|fr|Dieu et mon droit}}<br/>（[[フランス語]]:神と私の権利）'),\n",
       " ('国歌', '[[女王陛下万歳|神よ女王陛下を守り給え]]'),\n",
       " ('位置画像', 'Location_UK_EU_Europe_001.svg'),\n",
       " ('公用語', '[[英語]]（事実上）'),\n",
       " ('首都', '[[ロンドン]]'),\n",
       " ('最大都市', 'ロンドン'),\n",
       " ('元首等肩書', '[[イギリスの君主|女王]]'),\n",
       " ('元首等氏名', '[[エリザベス2世]]'),\n",
       " ('首相等肩書', '[[イギリスの首相|首相]]'),\n",
       " ('首相等氏名', '[[デーヴィッド・キャメロン]]'),\n",
       " ('面積順位', '76'),\n",
       " ('面積大きさ', '1 E11'),\n",
       " ('面積値', '244,820'),\n",
       " ('水面積率', '1.3%'),\n",
       " ('人口統計年', '2011'),\n",
       " ('人口順位', '22'),\n",
       " ('人口大きさ', '1 E7'),\n",
       " ('人口値',\n",
       "  '63,181,775<ref>[http://esa.un.org/unpd/wpp/Excel-Data/population.htm United Nations Department of Economic and Social Affairs>Population Division>Data>Population>Total Population]</ref>'),\n",
       " ('人口密度値', '246'),\n",
       " ('GDP統計年元', '2012'),\n",
       " ('GDP値元',\n",
       "  '1兆5478億<ref name=\"imf-statistics-gdp\">[http://www.imf.org/external/pubs/ft/weo/2012/02/weodata/weorept.aspx?pr.x=70&pr.y=13&sy=2010&ey=2012&scsm=1&ssd=1&sort=country&ds=.&br=1&c=112&s=NGDP%2CNGDPD%2CPPPGDP%2CPPPPC&grp=0&a= IMF>Data and Statistics>World Economic Outlook Databases>By Countrise>United Kingdom]</ref>'),\n",
       " ('GDP統計年MER', '2012'),\n",
       " ('GDP順位MER', '5'),\n",
       " ('GDP値MER', '2兆4337億<ref name=\"imf-statistics-gdp\" />'),\n",
       " ('GDP統計年', '2012'),\n",
       " ('GDP順位', '6'),\n",
       " ('GDP値', '2兆3162億<ref name=\"imf-statistics-gdp\" />'),\n",
       " ('GDP/人', '36,727<ref name=\"imf-statistics-gdp\" />'),\n",
       " ('建国形態', '建国'),\n",
       " ('確立形態1', '[[イングランド王国]]／[[スコットランド王国]]<br />（両国とも[[連合法 (1707年)|1707年連合法]]まで）'),\n",
       " ('確立年月日1', '[[927年]]／[[843年]]'),\n",
       " ('確立形態2', '[[グレートブリテン王国]]建国<br />（[[連合法 (1707年)|1707年連合法]]）'),\n",
       " ('確立年月日2', '[[1707年]]'),\n",
       " ('確立形態3', '[[グレートブリテン及びアイルランド連合王国]]建国<br />（[[連合法 (1800年)|1800年連合法]]）'),\n",
       " ('確立年月日3', '[[1801年]]'),\n",
       " ('確立形態4', \"現在の国号「'''グレートブリテン及び北アイルランド連合王国'''」に変更\"),\n",
       " ('確立年月日4', '[[1927年]]'),\n",
       " ('通貨', '[[スターリング・ポンド|UKポンド]] (&pound;)'),\n",
       " ('通貨コード', 'GBP'),\n",
       " ('時間帯', '±0'),\n",
       " ('夏時間', '+1'),\n",
       " ('ISO 3166-1', 'GB / GBR'),\n",
       " ('ccTLD', '[[.uk]] / [[.gb]]<ref>使用は.ukに比べ圧倒的少数。</ref>'),\n",
       " ('国際電話番号', '44'),\n",
       " ('注記', '<references />')]"
      ]
     },
     "execution_count": 163,
     "metadata": {},
     "output_type": "execute_result"
    }
   ],
   "source": [
    "e=re.finditer(r'\\{\\{基礎情報(.*?)\\n\\}\\}',text,re.DOTALL)\n",
    "tem=[x.group() for x in e]\n",
    "dic={}\n",
    "for x in tem:\n",
    "    e1=re.finditer(r'\\|(.*?)\\s*\\=\\s*(.*?)\\n(?=[\\|\\}])',x,re.DOTALL)\n",
    "    for y in e1:\n",
    "        dic[y.group(1)]=y.group(2)\n",
    "[i for i in dic.items()]"
   ]
  },
  {
   "cell_type": "markdown",
   "metadata": {},
   "source": [
    "## 26. 強調マークアップの除去"
   ]
  },
  {
   "cell_type": "markdown",
   "metadata": {},
   "source": [
    "25の処理時に，テンプレートの値からMediaWikiの強調マークアップ（弱い強調，強調，強い強調のすべて）を除去してテキストに変換せよ（参考: マークアップ早見表）．"
   ]
  },
  {
   "cell_type": "code",
   "execution_count": 169,
   "metadata": {},
   "outputs": [],
   "source": [
    "def remove_mark(text):\n",
    "    return re.sub(r'\\'{2,5}',\" \",text)"
   ]
  },
  {
   "cell_type": "code",
   "execution_count": 170,
   "metadata": {},
   "outputs": [
    {
     "data": {
      "text/plain": [
       "[('略名', 'イギリス'),\n",
       " ('日本語国名', 'グレートブリテン及び北アイルランド連合王国'),\n",
       " ('公式国名',\n",
       "  '{{lang|en|United Kingdom of Great Britain and Northern Ireland}}<ref>英語以外での正式国名:<br/>\\n*{{lang|gd|An Rìoghachd Aonaichte na Breatainn Mhòr agus Eirinn mu Thuath}}（[[スコットランド・ゲール語]]）<br/>\\n*{{lang|cy|Teyrnas Gyfunol Prydain Fawr a Gogledd Iwerddon}}（[[ウェールズ語]]）<br/>\\n*{{lang|ga|Ríocht Aontaithe na Breataine Móire agus Tuaisceart na hÉireann}}（[[アイルランド語]]）<br/>\\n*{{lang|kw|An Rywvaneth Unys a Vreten Veur hag Iwerdhon Glédh}}（[[コーンウォール語]]）<br/>\\n*{{lang|sco|Unitit Kinrick o Great Breetain an Northren Ireland}}（[[スコットランド語]]）<br/>\\n**{{lang|sco|Claught Kängrick o Docht Brätain an Norlin Airlann}}、{{lang|sco|Unitet Kängdom o Great Brittain an Norlin Airlann}}（アルスター・スコットランド語）</ref>'),\n",
       " ('国旗画像', 'Flag of the United Kingdom.svg'),\n",
       " ('国章画像',\n",
       "  '[[ファイル:Royal Coat of Arms of the United Kingdom.svg|85px|イギリスの国章]]'),\n",
       " ('国章リンク', '（[[イギリスの国章|国章]]）'),\n",
       " ('標語', '{{lang|fr|Dieu et mon droit}}<br/>（[[フランス語]]:神と私の権利）'),\n",
       " ('国歌', '[[女王陛下万歳|神よ女王陛下を守り給え]]'),\n",
       " ('位置画像', 'Location_UK_EU_Europe_001.svg'),\n",
       " ('公用語', '[[英語]]（事実上）'),\n",
       " ('首都', '[[ロンドン]]'),\n",
       " ('最大都市', 'ロンドン'),\n",
       " ('元首等肩書', '[[イギリスの君主|女王]]'),\n",
       " ('元首等氏名', '[[エリザベス2世]]'),\n",
       " ('首相等肩書', '[[イギリスの首相|首相]]'),\n",
       " ('首相等氏名', '[[デーヴィッド・キャメロン]]'),\n",
       " ('面積順位', '76'),\n",
       " ('面積大きさ', '1 E11'),\n",
       " ('面積値', '244,820'),\n",
       " ('水面積率', '1.3%'),\n",
       " ('人口統計年', '2011'),\n",
       " ('人口順位', '22'),\n",
       " ('人口大きさ', '1 E7'),\n",
       " ('人口値',\n",
       "  '63,181,775<ref>[http://esa.un.org/unpd/wpp/Excel-Data/population.htm United Nations Department of Economic and Social Affairs>Population Division>Data>Population>Total Population]</ref>'),\n",
       " ('人口密度値', '246'),\n",
       " ('GDP統計年元', '2012'),\n",
       " ('GDP値元',\n",
       "  '1兆5478億<ref name=\"imf-statistics-gdp\">[http://www.imf.org/external/pubs/ft/weo/2012/02/weodata/weorept.aspx?pr.x=70&pr.y=13&sy=2010&ey=2012&scsm=1&ssd=1&sort=country&ds=.&br=1&c=112&s=NGDP%2CNGDPD%2CPPPGDP%2CPPPPC&grp=0&a= IMF>Data and Statistics>World Economic Outlook Databases>By Countrise>United Kingdom]</ref>'),\n",
       " ('GDP統計年MER', '2012'),\n",
       " ('GDP順位MER', '5'),\n",
       " ('GDP値MER', '2兆4337億<ref name=\"imf-statistics-gdp\" />'),\n",
       " ('GDP統計年', '2012'),\n",
       " ('GDP順位', '6'),\n",
       " ('GDP値', '2兆3162億<ref name=\"imf-statistics-gdp\" />'),\n",
       " ('GDP/人', '36,727<ref name=\"imf-statistics-gdp\" />'),\n",
       " ('建国形態', '建国'),\n",
       " ('確立形態1', '[[イングランド王国]]／[[スコットランド王国]]<br />（両国とも[[連合法 (1707年)|1707年連合法]]まで）'),\n",
       " ('確立年月日1', '[[927年]]／[[843年]]'),\n",
       " ('確立形態2', '[[グレートブリテン王国]]建国<br />（[[連合法 (1707年)|1707年連合法]]）'),\n",
       " ('確立年月日2', '[[1707年]]'),\n",
       " ('確立形態3', '[[グレートブリテン及びアイルランド連合王国]]建国<br />（[[連合法 (1800年)|1800年連合法]]）'),\n",
       " ('確立年月日3', '[[1801年]]'),\n",
       " ('確立形態4', '現在の国号「 グレートブリテン及び北アイルランド連合王国 」に変更'),\n",
       " ('確立年月日4', '[[1927年]]'),\n",
       " ('通貨', '[[スターリング・ポンド|UKポンド]] (&pound;)'),\n",
       " ('通貨コード', 'GBP'),\n",
       " ('時間帯', '±0'),\n",
       " ('夏時間', '+1'),\n",
       " ('ISO 3166-1', 'GB / GBR'),\n",
       " ('ccTLD', '[[.uk]] / [[.gb]]<ref>使用は.ukに比べ圧倒的少数。</ref>'),\n",
       " ('国際電話番号', '44'),\n",
       " ('注記', '<references />')]"
      ]
     },
     "execution_count": 170,
     "metadata": {},
     "output_type": "execute_result"
    }
   ],
   "source": [
    "[(key,remove_mark(value)) for (key,value) in dic.items()]"
   ]
  },
  {
   "cell_type": "markdown",
   "metadata": {},
   "source": [
    "## 27. 内部リンクの除去"
   ]
  },
  {
   "cell_type": "markdown",
   "metadata": {},
   "source": [
    "26の処理に加えて，テンプレートの値からMediaWikiの内部リンクマークアップを除去し，テキストに変換せよ（参考: マークアップ早見表）．"
   ]
  },
  {
   "cell_type": "code",
   "execution_count": 197,
   "metadata": {},
   "outputs": [],
   "source": [
    "def remove_link(text):\n",
    "    return re.sub(r'\\[{2}([^\\|]*?\\|)?(.*?)\\]{2}',r'\\2',text)"
   ]
  },
  {
   "cell_type": "code",
   "execution_count": 194,
   "metadata": {},
   "outputs": [
    {
     "data": {
      "text/plain": [
       "[('略名', 'イギリス'),\n",
       " ('日本語国名', 'グレートブリテン及び北アイルランド連合王国'),\n",
       " ('公式国名',\n",
       "  '{{lang|en|United Kingdom of Great Britain and Northern Ireland}}<ref>英語以外での正式国名:<br/>\\n*{{lang|gd|An Rìoghachd Aonaichte na Breatainn Mhòr agus Eirinn mu Thuath}}（スコットランド・ゲール語）<br/>\\n*{{lang|cy|Teyrnas Gyfunol Prydain Fawr a Gogledd Iwerddon}}（ウェールズ語）<br/>\\n*{{lang|ga|Ríocht Aontaithe na Breataine Móire agus Tuaisceart na hÉireann}}（アイルランド語）<br/>\\n*{{lang|kw|An Rywvaneth Unys a Vreten Veur hag Iwerdhon Glédh}}（コーンウォール語）<br/>\\n*{{lang|sco|Unitit Kinrick o Great Breetain an Northren Ireland}}（スコットランド語）<br/>\\n**{{lang|sco|Claught Kängrick o Docht Brätain an Norlin Airlann}}、{{lang|sco|Unitet Kängdom o Great Brittain an Norlin Airlann}}（アルスター・スコットランド語）</ref>'),\n",
       " ('国旗画像', 'Flag of the United Kingdom.svg'),\n",
       " ('国章画像',\n",
       "  '[[ファイル:Royal Coat of Arms of the United Kingdom.svg|85px|イギリスの国章]]'),\n",
       " ('国章リンク', '（国章）'),\n",
       " ('標語', '{{lang|fr|Dieu et mon droit}}<br/>（フランス語:神と私の権利）'),\n",
       " ('国歌', '神よ女王陛下を守り給え'),\n",
       " ('位置画像', 'Location_UK_EU_Europe_001.svg'),\n",
       " ('公用語', '英語（事実上）'),\n",
       " ('首都', 'ロンドン'),\n",
       " ('最大都市', 'ロンドン'),\n",
       " ('元首等肩書', '女王'),\n",
       " ('元首等氏名', 'エリザベス2世'),\n",
       " ('首相等肩書', '首相'),\n",
       " ('首相等氏名', 'デーヴィッド・キャメロン'),\n",
       " ('面積順位', '76'),\n",
       " ('面積大きさ', '1 E11'),\n",
       " ('面積値', '244,820'),\n",
       " ('水面積率', '1.3%'),\n",
       " ('人口統計年', '2011'),\n",
       " ('人口順位', '22'),\n",
       " ('人口大きさ', '1 E7'),\n",
       " ('人口値',\n",
       "  '63,181,775<ref>[http://esa.un.org/unpd/wpp/Excel-Data/population.htm United Nations Department of Economic and Social Affairs>Population Division>Data>Population>Total Population]</ref>'),\n",
       " ('人口密度値', '246'),\n",
       " ('GDP統計年元', '2012'),\n",
       " ('GDP値元',\n",
       "  '1兆5478億<ref name=\"imf-statistics-gdp\">[http://www.imf.org/external/pubs/ft/weo/2012/02/weodata/weorept.aspx?pr.x=70&pr.y=13&sy=2010&ey=2012&scsm=1&ssd=1&sort=country&ds=.&br=1&c=112&s=NGDP%2CNGDPD%2CPPPGDP%2CPPPPC&grp=0&a= IMF>Data and Statistics>World Economic Outlook Databases>By Countrise>United Kingdom]</ref>'),\n",
       " ('GDP統計年MER', '2012'),\n",
       " ('GDP順位MER', '5'),\n",
       " ('GDP値MER', '2兆4337億<ref name=\"imf-statistics-gdp\" />'),\n",
       " ('GDP統計年', '2012'),\n",
       " ('GDP順位', '6'),\n",
       " ('GDP値', '2兆3162億<ref name=\"imf-statistics-gdp\" />'),\n",
       " ('GDP/人', '36,727<ref name=\"imf-statistics-gdp\" />'),\n",
       " ('建国形態', '建国'),\n",
       " ('確立形態1', '1707年連合法まで）'),\n",
       " ('確立年月日1', '927年／843年'),\n",
       " ('確立形態2', '1707年連合法）'),\n",
       " ('確立年月日2', '1707年'),\n",
       " ('確立形態3', '1800年連合法）'),\n",
       " ('確立年月日3', '1801年'),\n",
       " ('確立形態4', '現在の国号「 グレートブリテン及び北アイルランド連合王国 」に変更'),\n",
       " ('確立年月日4', '1927年'),\n",
       " ('通貨', 'UKポンド (&pound;)'),\n",
       " ('通貨コード', 'GBP'),\n",
       " ('時間帯', '±0'),\n",
       " ('夏時間', '+1'),\n",
       " ('ISO 3166-1', 'GB / GBR'),\n",
       " ('ccTLD', '.uk / .gb<ref>使用は.ukに比べ圧倒的少数。</ref>'),\n",
       " ('国際電話番号', '44'),\n",
       " ('注記', '<references />')]"
      ]
     },
     "execution_count": 194,
     "metadata": {},
     "output_type": "execute_result"
    }
   ],
   "source": [
    "[(key,remove_mark(remove_link(value))) for (key,value) in dic.items()]"
   ]
  },
  {
   "cell_type": "markdown",
   "metadata": {},
   "source": [
    "## 28. MediaWikiマークアップの除去"
   ]
  },
  {
   "cell_type": "markdown",
   "metadata": {},
   "source": [
    "27の処理に加えて，テンプレートの値からMediaWikiマークアップを可能な限り除去し，国の基本情報を整形せよ．"
   ]
  },
  {
   "cell_type": "code",
   "execution_count": 210,
   "metadata": {},
   "outputs": [],
   "source": [
    "def remove_allmark(text):\n",
    "    text=re.sub(r'\\'{2,5}','',text)  #除去强调markup \n",
    "    text=re.sub(r'\\[{2}([^\\|]*?\\|)*(.*?)\\]{2}',r'\\2',text) #除去内部link和文件\n",
    "    text=re.sub(r'\\<\\/?(br|ref)([^\\>]*?)\\>',r'',text) #除去<ref> <br>\n",
    "    text=re.sub(r'\\[http:\\/\\/([^\\s]*?\\s)?(.*?)\\]',r'\\2',text) #除去http\n",
    "    text=re.sub(r'\\{\\{lang\\|(.*?\\|)?(.*?)\\}\\}',r'\\2',text) #除去lang\n",
    "    return text"
   ]
  },
  {
   "cell_type": "code",
   "execution_count": 211,
   "metadata": {},
   "outputs": [
    {
     "data": {
      "text/plain": [
       "[('略名', 'イギリス'),\n",
       " ('日本語国名', 'グレートブリテン及び北アイルランド連合王国'),\n",
       " ('公式国名',\n",
       "  'United Kingdom of Great Britain and Northern Ireland英語以外での正式国名:\\n*An Rìoghachd Aonaichte na Breatainn Mhòr agus Eirinn mu Thuath（Unitit Kinrick o Great Breetain an Northren Ireland}}（[[スコットランド語）\\n**Claught Kängrick o Docht Brätain an Norlin Airlann、Unitet Kängdom o Great Brittain an Norlin Airlann（アルスター・スコットランド語）'),\n",
       " ('国旗画像', 'Flag of the United Kingdom.svg'),\n",
       " ('国章画像', 'イギリスの国章'),\n",
       " ('国章リンク', '（国章）'),\n",
       " ('標語', 'Dieu et mon droit（フランス語:神と私の権利）'),\n",
       " ('国歌', '神よ女王陛下を守り給え'),\n",
       " ('位置画像', 'Location_UK_EU_Europe_001.svg'),\n",
       " ('公用語', '英語（事実上）'),\n",
       " ('首都', 'ロンドン'),\n",
       " ('最大都市', 'ロンドン'),\n",
       " ('元首等肩書', '女王'),\n",
       " ('元首等氏名', 'エリザベス2世'),\n",
       " ('首相等肩書', '首相'),\n",
       " ('首相等氏名', 'デーヴィッド・キャメロン'),\n",
       " ('面積順位', '76'),\n",
       " ('面積大きさ', '1 E11'),\n",
       " ('面積値', '244,820'),\n",
       " ('水面積率', '1.3%'),\n",
       " ('人口統計年', '2011'),\n",
       " ('人口順位', '22'),\n",
       " ('人口大きさ', '1 E7'),\n",
       " ('人口値',\n",
       "  '63,181,775United Nations Department of Economic and Social Affairs>Population Division>Data>Population>Total Population'),\n",
       " ('人口密度値', '246'),\n",
       " ('GDP統計年元', '2012'),\n",
       " ('GDP値元',\n",
       "  '1兆5478億IMF>Data and Statistics>World Economic Outlook Databases>By Countrise>United Kingdom'),\n",
       " ('GDP統計年MER', '2012'),\n",
       " ('GDP順位MER', '5'),\n",
       " ('GDP値MER', '2兆4337億'),\n",
       " ('GDP統計年', '2012'),\n",
       " ('GDP順位', '6'),\n",
       " ('GDP値', '2兆3162億'),\n",
       " ('GDP/人', '36,727'),\n",
       " ('建国形態', '建国'),\n",
       " ('確立形態1', '1707年連合法まで）'),\n",
       " ('確立年月日1', '927年／843年'),\n",
       " ('確立形態2', '1707年連合法）'),\n",
       " ('確立年月日2', '1707年'),\n",
       " ('確立形態3', '1800年連合法）'),\n",
       " ('確立年月日3', '1801年'),\n",
       " ('確立形態4', '現在の国号「グレートブリテン及び北アイルランド連合王国」に変更'),\n",
       " ('確立年月日4', '1927年'),\n",
       " ('通貨', 'UKポンド (&pound;)'),\n",
       " ('通貨コード', 'GBP'),\n",
       " ('時間帯', '±0'),\n",
       " ('夏時間', '+1'),\n",
       " ('ISO 3166-1', 'GB / GBR'),\n",
       " ('ccTLD', '.uk / .gb使用は.ukに比べ圧倒的少数。'),\n",
       " ('国際電話番号', '44'),\n",
       " ('注記', '')]"
      ]
     },
     "execution_count": 211,
     "metadata": {},
     "output_type": "execute_result"
    }
   ],
   "source": [
    "[(key,remove_allmark(value)) for (key,value) in dic.items()]"
   ]
  },
  {
   "cell_type": "markdown",
   "metadata": {},
   "source": [
    "## 29. 国旗画像のURLを取得する"
   ]
  },
  {
   "cell_type": "markdown",
   "metadata": {},
   "source": [
    "テンプレートの内容を利用し，国旗画像のURLを取得せよ．（ヒント: MediaWiki APIのimageinfoを呼び出して，ファイル参照をURLに変換すればよい）"
   ]
  },
  {
   "cell_type": "code",
   "execution_count": 213,
   "metadata": {},
   "outputs": [
    {
     "name": "stdout",
     "output_type": "stream",
     "text": [
      "https://upload.wikimedia.org/wikipedia/en/a/ae/Flag_of_the_United_Kingdom.svg\n"
     ]
    }
   ],
   "source": [
    "import requests\n",
    "url = \"https://en.wikipedia.org/w/api.php\"\n",
    "payload = {\"action\": \"query\",\n",
    "           \"titles\": \"File:{}\".format(dic[\"国旗画像\"]),\n",
    "           \"prop\": \"imageinfo\",\n",
    "           \"format\": \"json\",\n",
    "           \"iiprop\": \"url\"}\n",
    "data = requests.get(url, params=payload)\n",
    "data_1=data.json()\n",
    "print(data_1['query']['pages']['23473560']['imageinfo'][0]['url'])"
   ]
  },
  {
   "cell_type": "code",
   "execution_count": null,
   "metadata": {},
   "outputs": [],
   "source": []
  }
 ],
 "metadata": {
  "kernelspec": {
   "display_name": "Python 3",
   "language": "python",
   "name": "python3"
  },
  "language_info": {
   "codemirror_mode": {
    "name": "ipython",
    "version": 3
   },
   "file_extension": ".py",
   "mimetype": "text/x-python",
   "name": "python",
   "nbconvert_exporter": "python",
   "pygments_lexer": "ipython3",
   "version": "3.6.3"
  }
 },
 "nbformat": 4,
 "nbformat_minor": 2
}
