{
 "cells": [
  {
   "cell_type": "markdown",
   "metadata": {},
   "source": [
    "## 第5章: 係り受け解析"
   ]
  },
  {
   "cell_type": "markdown",
   "metadata": {},
   "source": [
    "夏目漱石の小説『吾輩は猫である』の文章（neko.txt）をCaboChaを使って係り受け解析し，その結果をneko.txt.cabochaというファイルに保存せよ．このファイルを用いて，以下の問に対応するプログラムを実装せよ．"
   ]
  },
  {
   "cell_type": "code",
   "execution_count": null,
   "metadata": {
    "collapsed": true
   },
   "outputs": [],
   "source": [
    "import CaboCha\n",
    "with open('neko.txt') as f,open('neko.txt.cabocha', 'w') as out_file:\n",
    "    c = CaboCha.Parser()\n",
    "    for line in f:\n",
    "        out_file.write(c.parse(line).toString(CaboCha.FORMAT_LATTICE))"
   ]
  },
  {
   "cell_type": "markdown",
   "metadata": {},
   "source": [
    "### 40. 係り受け解析結果の読み込み（形態素）"
   ]
  },
  {
   "cell_type": "code",
   "execution_count": 1,
   "metadata": {},
   "outputs": [
    {
     "name": "stdout",
     "output_type": "stream",
     "text": [
      "surface[　]\tbase[　]\tpos[記号]\tpos1[空白]\n",
      "surface[吾輩]\tbase[吾輩]\tpos[名詞]\tpos1[代名詞]\n",
      "surface[は]\tbase[は]\tpos[助詞]\tpos1[係助詞]\n",
      "surface[猫]\tbase[猫]\tpos[名詞]\tpos1[一般]\n",
      "surface[で]\tbase[だ]\tpos[助動詞]\tpos1[*]\n",
      "surface[ある]\tbase[ある]\tpos[助動詞]\tpos1[*]\n",
      "surface[。]\tbase[。]\tpos[記号]\tpos1[句点]\n"
     ]
    }
   ],
   "source": [
    "class Morph:\n",
    "    def __init__(self, surface, base, pos, pos1):\n",
    "        self.surface = surface\n",
    "        self.base = base\n",
    "        self.pos = pos\n",
    "        self.pos1 = pos1\n",
    "    def __str__(self):\n",
    "        return 'surface[{}]\\tbase[{}]\\tpos[{}]\\tpos1[{}]'\\\n",
    "            .format(self.surface, self.base, self.pos, self.pos1)\n",
    "with open('neko.txt.cabocha') as f:\n",
    "    morphs=[]\n",
    "    list_1=[]\n",
    "    for line in f:\n",
    "        if 'EOS'in line:\n",
    "            list_1.append(morphs)\n",
    "            morphs=[]\n",
    "        else:\n",
    "            if line[0]=='*':\n",
    "                continue\n",
    "            else:\n",
    "                b_1=line.split('\\t')[0]\n",
    "                b_2=line.split('\\t')[1].split(',')\n",
    "            \n",
    "                morphs.append(Morph(b_1,b_2[6],b_2[0],b_2[1]))\n",
    "\n",
    "for i in list_1[2]:\n",
    "    print(i)"
   ]
  },
  {
   "cell_type": "markdown",
   "metadata": {},
   "source": [
    "### 41. 係り受け解析結果の読み込み（文節・係り受け）"
   ]
  },
  {
   "cell_type": "code",
   "execution_count": 104,
   "metadata": {},
   "outputs": [
    {
     "name": "stdout",
     "output_type": "stream",
     "text": [
      "[0]吾輩は\tsrcs[]\tdst[5]\n",
      "[1]ここで\tsrcs[]\tdst[2]\n",
      "[2]始めて\tsrcs[1]\tdst[3]\n",
      "[3]人間という\tsrcs[2]\tdst[4]\n",
      "[4]ものを\tsrcs[3]\tdst[5]\n",
      "[5]見た。\tsrcs[0, 4]\tdst[-1]\n"
     ]
    }
   ],
   "source": [
    "import re\n",
    "class Chunk:\n",
    "    def __init__(self):\n",
    "        self.morphs = []\n",
    "        self.srcs = []\n",
    "        self.dst = -1\n",
    "    def __str__(self):\n",
    "        surface = ''\n",
    "        for morph in self.morphs:\n",
    "            surface += morph.surface\n",
    "        return '{}\\tsrcs{}\\tdst[{}]'.format(surface, self.srcs, self.dst)\n",
    "    def fuhao(self):\n",
    "        result = ''\n",
    "        for morph in self.morphs:\n",
    "            if morph.pos != '記号':\n",
    "                result += morph.surface\n",
    "        return result\n",
    "    def chk_pos(self, pos):\n",
    "        for morph in self.morphs:\n",
    "            if morph.pos == pos:\n",
    "                return True\n",
    "        return False\n",
    "    def get_morphs_by_pos(self, pos):\n",
    "        return [res for res in self.morphs if res.pos == pos]\n",
    "    def get_kaku(self):\n",
    "        auxs = self.get_morphs_by_pos('助詞')\n",
    "        if len(auxs) > 0:\n",
    "            return auxs[-1].surface \n",
    "        else:\n",
    "            return ''\n",
    "    def get_sahen(self):\n",
    "        for i, morph in enumerate(self.morphs[0:-1]):\n",
    "            if (morph.pos == '名詞') \\\n",
    "                    and (morph.pos1 == 'サ変接続') \\\n",
    "                    and (self.morphs[i + 1].pos == '助詞') \\\n",
    "                    and (self.morphs[i + 1].surface == 'を'):\n",
    "                return morph.surface + self.morphs[i + 1].surface\n",
    "        return ''\n",
    "    def noun_change(self,symbol,omit=False):\n",
    "        result=''\n",
    "        for morph in self.morphs:\n",
    "            if morph.pos!='記号':\n",
    "                if morph.pos=='名詞':\n",
    "                    result+=symbol\n",
    "                    if omit:\n",
    "                        return result\n",
    "                else:\n",
    "                    result+=morph.surface\n",
    "        return result\n",
    "\n",
    "def function_1():\n",
    "    with open('neko.txt.cabocha') as file_parsed:\n",
    "        chunks = dict() \n",
    "        idx = -1\n",
    "        for line in file_parsed:\n",
    "            if line == 'EOS\\n':\n",
    "                if len(chunks) > 0:\n",
    "                    sorted_tuple = sorted(chunks.items(), key=lambda x: x[0])\n",
    "                    yield list(zip(*sorted_tuple))[1]\n",
    "                    chunks.clear()\n",
    "                else:\n",
    "                    yield []\n",
    "            elif line[0] == '*':\n",
    "                cols = line.split(' ')\n",
    "                idx = int(cols[1])\n",
    "                dst = int(re.search(r'(.*?)D', cols[2]).group(1))\n",
    "                if idx not in chunks:\n",
    "                    chunks[idx] = Chunk()\n",
    "                chunks[idx].dst = dst\n",
    "                if dst != -1:\n",
    "                    if dst not in chunks:\n",
    "                        chunks[dst] = Chunk()\n",
    "                    chunks[dst].srcs.append(idx)\n",
    "            else:\n",
    "                cols = line.split('\\t')\n",
    "                res_cols = cols[1].split(',')\n",
    "                chunks[idx].morphs.append(\n",
    "                    Morph(cols[0],res_cols[6],res_cols[0],res_cols[1]))\n",
    "        raise StopIteration\n",
    "for i, chunks in enumerate(function_1(), 1):\n",
    "    if i == 8:\n",
    "        for j, chunk in enumerate(chunks):\n",
    "            print('[{}]{}'.format(j, chunk))\n",
    "        break"
   ]
  },
  {
   "cell_type": "markdown",
   "metadata": {},
   "source": [
    "### 42. 係り元と係り先の文節の表示"
   ]
  },
  {
   "cell_type": "code",
   "execution_count": 16,
   "metadata": {},
   "outputs": [
    {
     "name": "stdout",
     "output_type": "stream",
     "text": [
      "吾輩は\t猫である\n",
      "名前は\t無い\n",
      "まだ\t無い\n",
      "どこで\t生れたか\n",
      "生れたか\tつかぬ\n",
      "とんと\tつかぬ\n",
      "見当が\tつかぬ\n",
      "何でも\t薄暗い\n",
      "薄暗い\t所で\n",
      "じめじめした\t所で\n"
     ]
    }
   ],
   "source": [
    "list_1=[]\n",
    "for chunks in function_1():\n",
    "    for chunk in chunks:\n",
    "        if int(chunk.dst)!=-1:\n",
    "            a=chunk.fuhao()\n",
    "            b=chunks[int(chunk.dst)].fuhao()\n",
    "            if a!='' and b!='':\n",
    "                list_1.append(a+'\\t'+b)\n",
    "for i in range(10):\n",
    "    print(list_1[i])"
   ]
  },
  {
   "cell_type": "markdown",
   "metadata": {},
   "source": [
    "### 43. 名詞を含む文節が動詞を含む文節に係るものを抽出"
   ]
  },
  {
   "cell_type": "code",
   "execution_count": 20,
   "metadata": {},
   "outputs": [
    {
     "name": "stdout",
     "output_type": "stream",
     "text": [
      "どこで\t生れたか\n",
      "見当が\tつかぬ\n",
      "所で\t泣いて\n",
      "ニャーニャー\t泣いて\n",
      "いた事だけは\t記憶している\n",
      "吾輩は\t見た\n",
      "ここで\t始めて\n",
      "ものを\t見た\n",
      "あとで\t聞くと\n",
      "我々を\t捕えて\n"
     ]
    }
   ],
   "source": [
    "list_2=[]\n",
    "for chunks in function_1():\n",
    "    for chunk in chunks:\n",
    "        if int(chunk.dst) != -1:\n",
    "            if chunk.chk_pos('名詞') and chunks[int(chunk.dst)].chk_pos('動詞'):\n",
    "                c = chunk.fuhao()\n",
    "                d = chunks[int(chunk.dst)].fuhao()\n",
    "                if c != '' and d != '':\n",
    "                    list_2.append(c+'\\t'+d)\n",
    "for i in range(10):\n",
    "    print(list_2[i])"
   ]
  },
  {
   "cell_type": "markdown",
   "metadata": {},
   "source": [
    "### 44. 係り受け木の可視化"
   ]
  },
  {
   "cell_type": "code",
   "execution_count": 58,
   "metadata": {},
   "outputs": [
    {
     "name": "stdout",
     "output_type": "stream",
     "text": [
      "文字列:吾輩はここで始めて人間というものを見た。\n"
     ]
    },
    {
     "data": {
      "text/plain": [
       "True"
      ]
     },
     "execution_count": 58,
     "metadata": {},
     "output_type": "execute_result"
    }
   ],
   "source": [
    "import CaboCha\n",
    "import pydot_ng as pydot\n",
    "with open('neko_1.txt', mode='w') as out_file:\n",
    "    out_file.write(input('文字列:'))\n",
    "with open('neko_1.txt') as f,open('neko_2.txt', mode='w') as out_file:\n",
    "    c = CaboCha.Parser()\n",
    "    for line in f:\n",
    "        out_file.write(c.parse(line).toString(CaboCha.FORMAT_LATTICE))\n",
    "def function_2():\n",
    "    with open('neko_2.txt') as file_parsed:\n",
    "        chunks = dict() \n",
    "        idx = -1\n",
    "        for line in file_parsed:\n",
    "            if line == 'EOS\\n':\n",
    "                if len(chunks) > 0:\n",
    "                    sorted_tuple = sorted(chunks.items(), key=lambda x: x[0])\n",
    "                    yield list(zip(*sorted_tuple))[1]\n",
    "                    chunks.clear()\n",
    "                else:\n",
    "                    yield []\n",
    "            elif line[0] == '*':\n",
    "                cols = line.split(' ')\n",
    "                idx = int(cols[1])\n",
    "                dst = int(re.search(r'(.*?)D', cols[2]).group(1))\n",
    "                if idx not in chunks:\n",
    "                    chunks[idx] = Chunk()\n",
    "                chunks[idx].dst = dst\n",
    "                if dst != -1:\n",
    "                    if dst not in chunks:\n",
    "                        chunks[dst] = Chunk()\n",
    "                    chunks[dst].srcs.append(idx)\n",
    "            else:\n",
    "                cols = line.split('\\t')\n",
    "                res_cols = cols[1].split(',')\n",
    "                chunks[idx].morphs.append(\n",
    "                    Morph(cols[0],res_cols[6],res_cols[0],res_cols[1]))\n",
    "        raise StopIteration\n",
    "edges=[]\n",
    "for chunks in function_2():\n",
    "    for chunk in chunks:\n",
    "        if chunk.dst!=-1:\n",
    "            a=chunk.fuhao()\n",
    "            b=chunks[chunk.dst].fuhao()\n",
    "            if a!='' and b!='':\n",
    "                edges.append((a,b))\n",
    "graph=pydot.graph_from_edges(edges,directed=True)\n",
    "graph.write_png('result.png')"
   ]
  },
  {
   "cell_type": "code",
   "execution_count": 26,
   "metadata": {},
   "outputs": [
    {
     "data": {
      "image/png": "[encoded data removed]",
      "text/plain": [
       "<matplotlib.figure.Figure at 0x113f02c88>"
      ]
     },
     "metadata": {},
     "output_type": "display_data"
    }
   ],
   "source": [
    "from PIL import Image\n",
    "import matplotlib.pyplot as plt\n",
    "import numpy as np\n",
    "%matplotlib inline \n",
    "im = Image.open('result.png')\n",
    "im_list = np.asarray(im)\n",
    "plt.imshow(im_list)\n",
    "plt.show()"
   ]
  },
  {
   "cell_type": "markdown",
   "metadata": {},
   "source": [
    "### 45.動詞の格パターン情報抽出"
   ]
  },
  {
   "cell_type": "code",
   "execution_count": 29,
   "metadata": {
    "collapsed": true
   },
   "outputs": [],
   "source": [
    "with open(\"neko_3.txt\", mode='w') as out_file:\n",
    "    for chunks in function_1():\n",
    "        for chunk in chunks:\n",
    "            verbs = chunk.get_morphs_by_pos('動詞')\n",
    "            if len(verbs) < 1:\n",
    "                continue\n",
    "            auxs = []\n",
    "            for src in chunk.srcs:\n",
    "                aux = chunks[src].get_morphs_by_pos('助詞')\n",
    "                if len(aux) > 0:\n",
    "                    auxs.append(aux[-1])\n",
    "            out_file.write('{}\\t{}\\n'.format(verbs[0].base,' '.join(sorted(aux.surface for aux in auxs))))"
   ]
  },
  {
   "cell_type": "code",
   "execution_count": 30,
   "metadata": {},
   "outputs": [
    {
     "name": "stdout",
     "output_type": "stream",
     "text": [
      "生れる\tで\n",
      "つく\tか が\n",
      "泣く\tで\n",
      "する\tて は\n",
      "始める\tで\n",
      "見る\tは を\n",
      "聞く\tで\n",
      "捕える\tを\n",
      "煮る\tて\n",
      "食う\tて\n"
     ]
    }
   ],
   "source": [
    "with open('neko_3.txt') as f:\n",
    "    for i in range(10):\n",
    "        print(f.readline().rstrip())"
   ]
  },
  {
   "cell_type": "code",
   "execution_count": 31,
   "metadata": {},
   "outputs": [
    {
     "name": "stdout",
     "output_type": "stream",
     "text": [
      " 704 云う\tと\r\n",
      " 452 する\tを\r\n",
      " 333 思う\tと\r\n",
      " 202 ある\tが\r\n",
      " 199 なる\tに\r\n",
      "sort: write failed: standard output: Broken pipe\r\n",
      "sort: write error\r\n"
     ]
    }
   ],
   "source": [
    "!sort neko_3.txt | uniq -c | sort -nr | head -5"
   ]
  },
  {
   "cell_type": "code",
   "execution_count": 32,
   "metadata": {},
   "outputs": [
    {
     "name": "stdout",
     "output_type": "stream",
     "text": [
      " 452 する\tを\r\n",
      " 188 する\tに\r\n",
      " 159 する\tと\r\n",
      " 117 する\tが\r\n",
      " 113 する\tに を\r\n"
     ]
    }
   ],
   "source": [
    "!grep \"^する\" neko_3.txt|sort|uniq -c|sort -r|head -5"
   ]
  },
  {
   "cell_type": "code",
   "execution_count": 33,
   "metadata": {},
   "outputs": [
    {
     "name": "stdout",
     "output_type": "stream",
     "text": [
      " 175 見る\tて\r\n",
      "  98 見る\tを\r\n",
      "  23 見る\tて て\r\n",
      "  20 見る\tから\r\n",
      "  17 見る\tと\r\n"
     ]
    }
   ],
   "source": [
    "!grep \"^見る\" neko_3.txt|sort|uniq -c|sort -r|head -5"
   ]
  },
  {
   "cell_type": "code",
   "execution_count": 34,
   "metadata": {},
   "outputs": [
    {
     "name": "stdout",
     "output_type": "stream",
     "text": [
      "   4 与える\tに を\r\n",
      "   2 与える\tて に は を\r\n",
      "   2 与える\tて に を\r\n",
      "   1 与える\tけれども は を\r\n",
      "   1 与える\tか として\r\n"
     ]
    }
   ],
   "source": [
    "!grep \"^与える\" neko_3.txt|sort|uniq -c|sort -r|head -5"
   ]
  },
  {
   "cell_type": "markdown",
   "metadata": {},
   "source": [
    "### 46. 動詞の格フレーム情報の抽出"
   ]
  },
  {
   "cell_type": "code",
   "execution_count": 38,
   "metadata": {
    "collapsed": true
   },
   "outputs": [],
   "source": [
    "with open(\"neko_4.txt\", mode='w') as out_file:\n",
    "    for chunks in function_1():\n",
    "        for chunk in chunks:\n",
    "            verbs = chunk.get_morphs_by_pos('動詞')\n",
    "            if len(verbs) < 1:\n",
    "                continue\n",
    "            a = []\n",
    "            for src in chunk.srcs:\n",
    "                if len(chunks[src].get_kaku()) > 0:\n",
    "                    a.append(chunks[src])\n",
    "            a.sort(key=lambda x: x.get_kaku())\n",
    "            out_file.write('{}\\t{}\\t{}\\n'.format(verbs[0].base,' '.join([chunk.get_kaku for chunk in a]),\\  \n",
    "                ' '.join([chunk.fuhao() for chunk in a])))"
   ]
  },
  {
   "cell_type": "code",
   "execution_count": 39,
   "metadata": {},
   "outputs": [
    {
     "name": "stdout",
     "output_type": "stream",
     "text": [
      "生れる\tで\tどこで\n",
      "つく\tか が\t生れたか 見当が\n",
      "泣く\tで\t所で\n",
      "する\tて は\t泣いて いた事だけは\n",
      "始める\tで\tここで\n",
      "見る\tは を\t吾輩は ものを\n",
      "聞く\tで\tあとで\n",
      "捕える\tを\t我々を\n",
      "煮る\tて\t捕えて\n",
      "食う\tて\t煮て\n"
     ]
    }
   ],
   "source": [
    "with open('neko_4.txt') as f:\n",
    "    for i in range(10):\n",
    "        print(f.readline().rstrip())"
   ]
  },
  {
   "cell_type": "markdown",
   "metadata": {},
   "source": [
    "### 47. 機能動詞構文のマイニング"
   ]
  },
  {
   "cell_type": "code",
   "execution_count": 41,
   "metadata": {
    "collapsed": true
   },
   "outputs": [],
   "source": [
    "with open('neko_5.txt', mode='w') as out_file:\n",
    "    for chunks in function_1():\n",
    "        for chunk in chunks:\n",
    "            verbs = chunk.get_morphs_by_pos('動詞')\n",
    "            if len(verbs) < 1:\n",
    "            b = []\n",
    "            for src in chunk.srcs:\n",
    "                if len(chunks[src].get_kaku()) > 0:\n",
    "                    b.append(chunks[src])\n",
    "            sahen = ''\n",
    "            for i in b:\n",
    "                sahen = i.get_sahen()\n",
    "                if len(sahen) > 0:\n",
    "                    chunk_remove = i\n",
    "                    break\n",
    "            b.remove(chunk_remove)\n",
    "            b.sort(key=lambda x: x.get_kaku())\n",
    "            out_file.write('{}\\t{}\\t{}\\n'.format(\n",
    "                sahen + verbs[0].base,' '.join([chunk.get_kaku for chunk in b]), \\     \n",
    "                ' '.join([chunk.fuhao() for chunk in b])))"
   ]
  },
  {
   "cell_type": "code",
   "execution_count": 42,
   "metadata": {},
   "outputs": [
    {
     "name": "stdout",
     "output_type": "stream",
     "text": [
      "  30 返事をする\r\n",
      "  21 挨拶をする\r\n",
      "  16 話をする\r\n",
      "  14 真似をする\r\n",
      "  13 喧嘩をする\r\n"
     ]
    }
   ],
   "source": [
    "!cut -f1 neko_5.txt | sort | uniq -c | sort -nr | head -5"
   ]
  },
  {
   "cell_type": "code",
   "execution_count": 43,
   "metadata": {},
   "outputs": [
    {
     "name": "stdout",
     "output_type": "stream",
     "text": [
      "   8 真似をする\t\r\n",
      "   6 返事をする\tと\r\n",
      "   6 運動をする\t\r\n",
      "   6 喧嘩をする\t\r\n",
      "   4 挨拶をする\tから\r\n"
     ]
    }
   ],
   "source": [
    "!cut -f1,2 neko_5.txt | sort | uniq -c | sort -nr | head -5"
   ]
  },
  {
   "cell_type": "markdown",
   "metadata": {},
   "source": [
    "### 48. 名詞から根へのパスの抽出"
   ]
  },
  {
   "cell_type": "code",
   "execution_count": 45,
   "metadata": {
    "collapsed": true
   },
   "outputs": [],
   "source": [
    "with open(\"neko_6.txt\", mode='w') as out_file:\n",
    "    for chunks in function_1():\n",
    "        for chunk in chunks:\n",
    "            if(len(chunk.get_morphs_by_pos('名詞')) > 0):\n",
    "                out_file.write(chunk.fuhao())\n",
    "                dst = chunk.dst\n",
    "                while dst != -1:\n",
    "                    out_file.write(' -> ' + chunks[dst].fuhao())\n",
    "                    dst = chunks[dst].dst\n",
    "                out_file.write('\\n')"
   ]
  },
  {
   "cell_type": "code",
   "execution_count": 46,
   "metadata": {},
   "outputs": [
    {
     "name": "stdout",
     "output_type": "stream",
     "text": [
      "一\n",
      "吾輩は -> 猫である\n",
      "猫である\n",
      "名前は -> 無い\n",
      "どこで -> 生れたか -> つかぬ\n",
      "見当が -> つかぬ\n",
      "何でも -> 薄暗い -> 所で -> 泣いて -> 記憶している\n",
      "所で -> 泣いて -> 記憶している\n",
      "ニャーニャー -> 泣いて -> 記憶している\n",
      "いた事だけは -> 記憶している\n"
     ]
    }
   ],
   "source": [
    "with open('neko_6.txt') as f:\n",
    "    for i in range(10):\n",
    "        print(f.readline().rstrip())"
   ]
  },
  {
   "cell_type": "markdown",
   "metadata": {},
   "source": [
    "### 49. 名詞間の係り受けパスの抽出"
   ]
  },
  {
   "cell_type": "code",
   "execution_count": 130,
   "metadata": {},
   "outputs": [],
   "source": [
    "with open(\"neko_7.txt\", mode='w') as out_file:\n",
    "    for chunks in neco_lines():\n",
    "        indexs_noun = [i for i in range(len(chunks)) if chunks[i].chk_pos('名詞')]\n",
    "        for i, index_x in enumerate(indexs_noun[:-1]):\n",
    "            for index_y in indexs_noun[i+1:]:\n",
    "                meet_y=False          \n",
    "                index_cross=-1          \n",
    "                routes_x=set()      \n",
    "                dst=chunks[index_x].dst\n",
    "                while dst!=-1:\n",
    "                    if dst==index_y:\n",
    "                        meet_y=True           \n",
    "                        break\n",
    "                    routes_x.add(dst)           \n",
    "                    dst=chunks[dst].dst\n",
    "                if not meet_y:\n",
    "                    dst=chunks[index_y].dst\n",
    "                    while dst!=-1:\n",
    "                        if dst in routes_x:\n",
    "                            index_cross=dst  \n",
    "                            break\n",
    "                        else:\n",
    "                            dst=chunks[dst].dst\n",
    "\n",
    "                if index_cross==-1:\n",
    "                    out_file.write(chunks[index_x].noun_change('X'))\n",
    "                    dst=chunks[index_x].dst\n",
    "                    while dst!=-1:\n",
    "                        if dst==index_y:\n",
    "                            out_file.write('->'+chunks[dst].noun_change('Y', True))\n",
    "                            break\n",
    "                        else:\n",
    "                            out_file.write('->'+chunks[dst].fuhao())\n",
    "                        dst=chunks[dst].dst\n",
    "                    out_file.write('\\n')\n",
    "\n",
    "                else:\n",
    "                    a=chunks[index_x].noun_change('X')+'|'+chunks[index_y].noun_change('Y')\n",
    "                    out_file.write(a)\n",
    "                    dst=chunks[index_y].dst\n",
    "                    while dst!=index_cross:\n",
    "                        out_file.write('->'+chunks[dst].fuhao())\n",
    "                        dst=chunks[dst].dst\n",
    "                    out_file.write('|')\n",
    "                    out_file.write(chunks[index_cross].fuhao())\n",
    "                    out_file.write('\\n')"
   ]
  },
  {
   "cell_type": "code",
   "execution_count": 143,
   "metadata": {
    "scrolled": true
   },
   "outputs": [
    {
     "name": "stdout",
     "output_type": "stream",
     "text": [
      "Xは->Y\n",
      "Xで|Yが|つかぬ\n",
      "Xでも->薄暗い->Y\n",
      "Xでも|Y|泣いて\n",
      "Xでも|Yだけは|記憶している\n",
      "Xでも->薄暗い->所で->泣いて->Y\n",
      "Xで|Y|泣いて\n",
      "Xで|Yだけは|記憶している\n",
      "Xで->泣いて->Y\n",
      "X|Yだけは|記憶している\n",
      "X->泣いて->Y\n",
      "Xだけは->Y\n",
      "Xは|Yで->始めて->人間という->ものを|見た\n",
      "Xは|Yという->ものを|見た\n",
      "Xは|Yを|見た\n",
      "Xで->始めて->Y\n",
      "Xで->始めて->人間という->Y\n",
      "Xという->Y\n",
      "Xで|Yは|種族であったそうだ\n",
      "Xで|Yという->人間中で|種族であったそうだ\n"
     ]
    }
   ],
   "source": [
    "with open('neko_7.txt') as f:\n",
    "    for i in range(20):\n",
    "        print(f.readline().rstrip())"
   ]
  },
  {
   "cell_type": "code",
   "execution_count": null,
   "metadata": {
    "collapsed": true
   },
   "outputs": [],
   "source": []
  }
 ],
 "metadata": {
  "kernelspec": {
   "display_name": "Python 3",
   "language": "python",
   "name": "python3"
  },
  "language_info": {
   "codemirror_mode": {
    "name": "ipython",
    "version": 3
   },
   "file_extension": ".py",
   "mimetype": "text/x-python",
   "name": "python",
   "nbconvert_exporter": "python",
   "pygments_lexer": "ipython3",
   "version": "3.6.3"
  }
 },
 "nbformat": 4,
 "nbformat_minor": 2
}
