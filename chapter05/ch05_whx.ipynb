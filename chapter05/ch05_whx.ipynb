{
 "cells": [
  {
   "cell_type": "markdown",
   "metadata": {},
   "source": [
    "夏目漱石の小説『吾輩は猫である』の文章（neko.txt）をCaboChaを使って係り受け解析し，その結果をneko.txt.cabochaというファイルに保存せよ．このファイルを用いて，以下の問に対応するプログラムを実装せよ．"
   ]
  },
  {
   "cell_type": "code",
   "execution_count": 4,
   "metadata": {},
   "outputs": [],
   "source": [
    "!cabocha -f1 <neko.txt>neko.txt.cabocha"
   ]
  },
  {
   "cell_type": "code",
   "execution_count": 8,
   "metadata": {},
   "outputs": [],
   "source": [
    "import re"
   ]
  },
  {
   "cell_type": "markdown",
   "metadata": {},
   "source": [
    "## 40. 係り受け解析結果の読み込み（形態素）"
   ]
  },
  {
   "cell_type": "markdown",
   "metadata": {},
   "source": [
    "形態素を表すクラスMorphを実装せよ．このクラスは表層形（surface），基本形（base），品詞（pos），品詞細分類1（pos1）をメンバ変数に持つこととする．さらに，CaboChaの解析結果（neko.txt.cabocha）を読み込み，各文をMorphオブジェクトのリストとして表現し，3文目の形態素列を表示せよ．"
   ]
  },
  {
   "cell_type": "code",
   "execution_count": 108,
   "metadata": {},
   "outputs": [],
   "source": [
    "class Morph:\n",
    "    def __init__(self,surface,base,pos,pos1):\n",
    "        self.surface=surface\n",
    "        self.base=base\n",
    "        self.pos=pos\n",
    "        self.pos1=pos1\n",
    "    def __str__(self):\n",
    "        return \"surface:[{}]\\tbase[{}]\\tpos:[{}]\\tpos1:[{}]\".format(self.surface,self.base,self.pos,self.pos1)"
   ]
  },
  {
   "cell_type": "code",
   "execution_count": 109,
   "metadata": {},
   "outputs": [],
   "source": [
    "with open(\"neko.txt.cabocha\") as f:\n",
    "    tem=[]\n",
    "    res=[]\n",
    "    for line in f:\n",
    "        if \"EOS\" in line:\n",
    "            res.append(tem)\n",
    "            tem=[]\n",
    "        else:\n",
    "            if line[0]==\"*\":continue\n",
    "            else:\n",
    "                split=line.split('\\t')\n",
    "                right=split[1].split(',')\n",
    "                tem.append(Morph(split[0],right[6],right[0],right[1]))"
   ]
  },
  {
   "cell_type": "code",
   "execution_count": 110,
   "metadata": {},
   "outputs": [
    {
     "name": "stdout",
     "output_type": "stream",
     "text": [
      "surface:[　]\tbase[　]\tpos:[記号]\tpos1:[空白]\n",
      "surface:[吾輩]\tbase[吾輩]\tpos:[名詞]\tpos1:[代名詞]\n",
      "surface:[は]\tbase[は]\tpos:[助詞]\tpos1:[係助詞]\n",
      "surface:[猫]\tbase[猫]\tpos:[名詞]\tpos1:[一般]\n",
      "surface:[で]\tbase[だ]\tpos:[助動詞]\tpos1:[*]\n",
      "surface:[ある]\tbase[ある]\tpos:[助動詞]\tpos1:[*]\n",
      "surface:[。]\tbase[。]\tpos:[記号]\tpos1:[句点]\n"
     ]
    }
   ],
   "source": [
    "for x in res[2]:print(x)"
   ]
  },
  {
   "cell_type": "code",
   "execution_count": 111,
   "metadata": {},
   "outputs": [
    {
     "data": {
      "text/plain": [
       "[[<__main__.Morph at 0x11651bc50>],\n",
       " [],\n",
       " [<__main__.Morph at 0x11651be80>,\n",
       "  <__main__.Morph at 0x11651bef0>,\n",
       "  <__main__.Morph at 0x11651ba90>,\n",
       "  <__main__.Morph at 0x11651b5f8>,\n",
       "  <__main__.Morph at 0x11651b828>,\n",
       "  <__main__.Morph at 0x11651b4a8>,\n",
       "  <__main__.Morph at 0x11651b630>]]"
      ]
     },
     "execution_count": 111,
     "metadata": {},
     "output_type": "execute_result"
    }
   ],
   "source": [
    "res[:3]"
   ]
  },
  {
   "cell_type": "markdown",
   "metadata": {},
   "source": [
    "## 41. 係り受け解析結果の読み込み（文節・係り受け）"
   ]
  },
  {
   "cell_type": "markdown",
   "metadata": {},
   "source": [
    "40に加えて，文節を表すクラスChunkを実装せよ．このクラスは形態素（Morphオブジェクト）のリスト（morphs），係り先文節インデックス番号（dst），係り元文節インデックス番号のリスト（srcs）をメンバ変数に持つこととする．さらに，入力テキストのCaboChaの解析結果を読み込み，１文をChunkオブジェクトのリストとして表現し，8文目の文節の文字列と係り先を表示せよ．第5章の残りの問題では，ここで作ったプログラムを活用せよ．"
   ]
  },
  {
   "cell_type": "code",
   "execution_count": 126,
   "metadata": {},
   "outputs": [],
   "source": [
    "class Chunk:\n",
    "    def __init__(self):\n",
    "        self.morphs=[]\n",
    "        self.dst=-1\n",
    "        self.srcs=[]\n",
    "    def __str__(self):\n",
    "        surface=\"\".join([x.surface for x in self.morphs])\n",
    "        return \"{}\\tdst:{}\\tsrcs:{}\".format(surface,self.dst,self.srcs)\n",
    "    def fuhao(self):\n",
    "        surface=\"\".join([x.surface for x in self.morphs if x.pos!=\"記号\"])\n",
    "        return surface\n",
    "    def checkpos(self,pos):\n",
    "        return any(morph.pos==pos for morph in self.morphs)"
   ]
  },
  {
   "cell_type": "code",
   "execution_count": 127,
   "metadata": {},
   "outputs": [],
   "source": [
    "with open(\"neko.txt.cabocha\") as f:\n",
    "    chunks=dict()\n",
    "    res=[]\n",
    "    tem=[]\n",
    "    for line in f:\n",
    "        if \"EOS\" in line:\n",
    "            tem=[chunks.get(x) for x in sorted(chunks)]\n",
    "            res.append(tem)\n",
    "            tem=[]\n",
    "            chunks.clear()\n",
    "        elif line[0]==\"*\":\n",
    "            l_split=line.split(\" \")\n",
    "            index=int(l_split[1])\n",
    "            dst=int(l_split[2][:-1])\n",
    "            if index not in chunks:\n",
    "                chunks[index]=Chunk()\n",
    "            chunks[index].dst=dst\n",
    "            if dst!=-1:\n",
    "                if dst not in chunks:\n",
    "                    chunks[dst]=Chunk()\n",
    "                chunks[dst].srcs.append(index)\n",
    "        else:\n",
    "            split=line.split('\\t')\n",
    "            right=split[1].split(',')\n",
    "            chunks[index].morphs.append(Morph(split[0],right[6],right[0],right[1]))        "
   ]
  },
  {
   "cell_type": "code",
   "execution_count": 128,
   "metadata": {},
   "outputs": [
    {
     "name": "stdout",
     "output_type": "stream",
     "text": [
      "[0]吾輩は\tdst:5\tsrcs:[]\n",
      "[1]ここで\tdst:2\tsrcs:[]\n",
      "[2]始めて\tdst:3\tsrcs:[1]\n",
      "[3]人間という\tdst:4\tsrcs:[2]\n",
      "[4]ものを\tdst:5\tsrcs:[3]\n",
      "[5]見た。\tdst:-1\tsrcs:[0, 4]\n"
     ]
    }
   ],
   "source": [
    "for index,x in enumerate(res[7]):\n",
    "    print(\"[{}]{}\".format(index,x))"
   ]
  },
  {
   "cell_type": "markdown",
   "metadata": {},
   "source": [
    "## 42. 係り元と係り先の文節の表示"
   ]
  },
  {
   "cell_type": "markdown",
   "metadata": {},
   "source": [
    "係り元の文節と係り先の文節のテキストをタブ区切り形式ですべて抽出せよ．ただし，句読点などの記号は出力しないようにせよ．"
   ]
  },
  {
   "cell_type": "code",
   "execution_count": 129,
   "metadata": {},
   "outputs": [
    {
     "data": {
      "text/plain": [
       "[[<__main__.Chunk at 0x1206c8a90>],\n",
       " [],\n",
       " [<__main__.Chunk at 0x11602eb38>,\n",
       "  <__main__.Chunk at 0x11d790ba8>,\n",
       "  <__main__.Chunk at 0x1206c8e48>],\n",
       " [<__main__.Chunk at 0x11d790cf8>,\n",
       "  <__main__.Chunk at 0x11d790828>,\n",
       "  <__main__.Chunk at 0x11d7900b8>],\n",
       " []]"
      ]
     },
     "execution_count": 129,
     "metadata": {},
     "output_type": "execute_result"
    }
   ],
   "source": [
    "res[:5]"
   ]
  },
  {
   "cell_type": "code",
   "execution_count": 130,
   "metadata": {},
   "outputs": [
    {
     "name": "stdout",
     "output_type": "stream",
     "text": [
      "\t猫である\n",
      "吾輩は\t猫である\n",
      "名前は\t無い\n",
      "まだ\t無い\n",
      "どこで\t生れたか\n",
      "生れたか\tつかぬ\n",
      "とんと\tつかぬ\n",
      "見当が\tつかぬ\n",
      "何でも\t薄暗い\n",
      "薄暗い\t所で\n"
     ]
    }
   ],
   "source": [
    "list42=[]\n",
    "for chunks in res:\n",
    "    for chunk in chunks:\n",
    "        if chunk.dst!=-1:\n",
    "            a=chunk.fuhao()\n",
    "            b=chunks[chunk.dst].fuhao()\n",
    "            list42.append(a+'\\t'+b)\n",
    "for x in list42[:10]:print(x)"
   ]
  },
  {
   "cell_type": "markdown",
   "metadata": {},
   "source": [
    "## 43. 名詞を含む文節が動詞を含む文節に係るものを抽出"
   ]
  },
  {
   "cell_type": "markdown",
   "metadata": {},
   "source": [
    "名詞を含む文節が，動詞を含む文節に係るとき，これらをタブ区切り形式で抽出せよ．ただし，句読点などの記号は出力しないようにせよ．"
   ]
  },
  {
   "cell_type": "code",
   "execution_count": 131,
   "metadata": {},
   "outputs": [
    {
     "name": "stdout",
     "output_type": "stream",
     "text": [
      "どこで\t生れたか\n",
      "見当が\tつかぬ\n",
      "所で\t泣いて\n",
      "ニャーニャー\t泣いて\n",
      "いた事だけは\t記憶している\n",
      "吾輩は\t見た\n",
      "ここで\t始めて\n",
      "ものを\t見た\n",
      "あとで\t聞くと\n",
      "我々を\t捕えて\n"
     ]
    }
   ],
   "source": [
    "list43=[]\n",
    "for chunks in res:\n",
    "    for chunk in chunks:\n",
    "        if chunk.dst!=-1:\n",
    "            if chunk.checkpos('名詞') and chunks[chunk.dst].checkpos('動詞'):\n",
    "                a=chunk.fuhao()\n",
    "                b=chunks[chunk.dst].fuhao()\n",
    "                list43.append(a+'\\t'+b)\n",
    "for x in list43[:10]:print(x)"
   ]
  },
  {
   "cell_type": "markdown",
   "metadata": {},
   "source": [
    "## 44. 係り受け木の可視化"
   ]
  },
  {
   "cell_type": "markdown",
   "metadata": {},
   "source": [
    "与えられた文の係り受け木を有向グラフとして可視化せよ．可視化には，係り受け木をDOT言語に変換し，Graphvizを用いるとよい．また，Pythonから有向グラフを直接的に可視化するには，pydotを使うとよい"
   ]
  },
  {
   "cell_type": "code",
   "execution_count": 210,
   "metadata": {},
   "outputs": [],
   "source": [
    "import pydot\n",
    "from IPython.display import Image,display_png"
   ]
  },
  {
   "cell_type": "code",
   "execution_count": 205,
   "metadata": {},
   "outputs": [],
   "source": [
    "edges=[]\n",
    "for chunk in res[10]:\n",
    "    if chunk.dst!=-1:\n",
    "        a=chunk.fuhao()\n",
    "        b=res[10][chunk.dst].fuhao()\n",
    "        if a!='' and b!='':\n",
    "            edges.append((a,b))\n",
    "graph=pydot.graph_from_edges(edges,directed=True)\n",
    "graph.write_png(\"G.png\")"
   ]
  },
  {
   "cell_type": "code",
   "execution_count": 209,
   "metadata": {},
   "outputs": [
    {
     "data": {
      "image/png": "[encoded data removed]"
     },
     "metadata": {},
     "output_type": "display_data"
    }
   ],
   "source": [
    "display_png(Image(\"G.png\"))"
   ]
  },
  {
   "cell_type": "markdown",
   "metadata": {},
   "source": [
    "# 45. 動詞の格パターンの抽出"
   ]
  },
  {
   "cell_type": "markdown",
   "metadata": {},
   "source": [
    "今回用いている文章をコーパスと見なし，日本語の述語が取りうる格を調査したい． 動詞を述語，動詞に係っている文節の助詞を格と考え，述語と格をタブ区切り形式で出力せよ． ただし，出力は以下の仕様を満たすようにせよ．\n",
    "\n"
   ]
  },
  {
   "cell_type": "markdown",
   "metadata": {},
   "source": [
    "+ 動詞を含む文節において，最左の動詞の基本形を述語とする\n",
    "+ 述語に係る助詞を格とする\n",
    "+ 述語に係る助詞（文節）が複数あるときは，すべての助詞をスペース区切りで辞書順に並べる"
   ]
  },
  {
   "cell_type": "markdown",
   "metadata": {},
   "source": [
    "「吾輩はここで始めて人間というものを見た」という例文（neko.txt.cabochaの8文目）を考える． この文は「始める」と「見る」の２つの動詞を含み，「始める」に係る文節は「ここで」，「見る」に係る文節は「吾輩は」と「ものを」と解析された場合は，次のような出力になるはずである．"
   ]
  },
  {
   "cell_type": "markdown",
   "metadata": {},
   "source": [
    "~~~\n",
    "始める  で\n",
    "見る    は を\n",
    "~~~"
   ]
  },
  {
   "cell_type": "markdown",
   "metadata": {},
   "source": [
    "このプログラムの出力をファイルに保存し，以下の事項をUNIXコマンドを用いて確認せよ．\n",
    "\n",
    "+ コーパス中で頻出する述語と格パターンの組み合わせ\n",
    "+ 「する」「見る」「与える」という動詞の格パターン（コーパス中で出現頻度の高い順に並べよ）\n"
   ]
  },
  {
   "cell_type": "code",
   "execution_count": null,
   "metadata": {},
   "outputs": [],
   "source": []
  },
  {
   "cell_type": "markdown",
   "metadata": {},
   "source": [
    "# 46. 動詞の格フレーム情報の抽出"
   ]
  },
  {
   "cell_type": "markdown",
   "metadata": {},
   "source": [
    "45のプログラムを改変し，述語と格パターンに続けて項（述語に係っている文節そのもの）をタブ区切り形式で出力せよ．45の仕様に加えて，以下の仕様を満たすようにせよ．\n",
    "\n",
    "+ 項は述語に係っている文節の単語列とする（末尾の助詞を取り除く必要はない）\n",
    "+ 述語に係る文節が複数あるときは，助詞と同一の基準・順序でスペース区切りで並べる"
   ]
  },
  {
   "cell_type": "markdown",
   "metadata": {},
   "source": [
    "「吾輩はここで始めて人間というものを見た」という例文（neko.txt.cabochaの8文目）を考える． この文は「始める」と「見る」の２つの動詞を含み，「始める」に係る文節は「ここで」，「見る」に係る文節は「吾輩は」と「ものを」と解析された場合は，次のような出力になるはずである．\n",
    "~~~\n",
    "始める  で      ここで\n",
    "見る    は を   吾輩は ものを\n",
    "~~~"
   ]
  },
  {
   "cell_type": "code",
   "execution_count": null,
   "metadata": {},
   "outputs": [],
   "source": []
  },
  {
   "cell_type": "markdown",
   "metadata": {},
   "source": [
    "# 47. 機能動詞構文のマイニング"
   ]
  },
  {
   "cell_type": "markdown",
   "metadata": {},
   "source": [
    "動詞のヲ格にサ変接続名詞が入っている場合のみに着目したい．46のプログラムを以下の仕様を満たすように改変せよ．\n",
    "\n",
    "+「サ変接続名詞+を（助詞）」で構成される文節が動詞に係る場合のみを対象とする\n",
    "+ 述語は「サ変接続名詞+を+動詞の基本形」とし，文節中に複数の動詞があるときは，最左の動詞を用いる\n",
    "+ 述語に係る助詞（文節）が複数あるときは，すべての助詞をスペース区切りで辞書順に並べる\n",
    "+ 述語に係る文節が複数ある場合は，すべての項をスペース区切りで並べる（助詞の並び順と揃えよ）\n",
    "例えば「別段くるにも及ばんさと、主人は手紙に返事をする。」という文から，以下の出力が得られるはずである．\n",
    "\n",
    "~~~\n",
    "返事をする      と に は        及ばんさと 手紙に 主人は\n",
    "~~~\n",
    "このプログラムの出力をファイルに保存し，以下の事項をUNIXコマンドを用いて確認せよ．\n",
    "\n",
    "+ コーパス中で頻出する述語（サ変接続名詞+を+動詞）\n",
    "+ コーパス中で頻出する述語と助詞パターン"
   ]
  },
  {
   "cell_type": "code",
   "execution_count": null,
   "metadata": {},
   "outputs": [],
   "source": []
  },
  {
   "cell_type": "markdown",
   "metadata": {},
   "source": [
    "# 48. 名詞から根へのパスの抽出"
   ]
  },
  {
   "cell_type": "markdown",
   "metadata": {},
   "source": [
    "\n",
    "文中のすべての名詞を含む文節に対し，その文節から構文木の根に至るパスを抽出せよ． ただし，構文木上のパスは以下の仕様を満たすものとする．\n",
    "\n",
    "+ 「各文節は（表層形の）形態素列で表現する\n",
    "+ パスの開始文節から終了文節に至るまで，各文節の表現を\"->\"で連結する\n",
    "「吾輩はここで始めて人間というものを見た」という文（neko.txt.cabochaの8文目）から，次のような出力が得られるはずである．\n",
    "~~~\n",
    "吾輩は -> 見た\n",
    "ここで -> 始めて -> 人間という -> ものを -> 見た\n",
    "人間という -> ものを -> 見た\n",
    "ものを -> 見た\n",
    "~~~"
   ]
  },
  {
   "cell_type": "code",
   "execution_count": null,
   "metadata": {},
   "outputs": [],
   "source": []
  },
  {
   "cell_type": "markdown",
   "metadata": {},
   "source": [
    "# 49.名詞間の係り受けパスの抽出"
   ]
  },
  {
   "cell_type": "markdown",
   "metadata": {},
   "source": [
    "\n",
    "文中のすべての名詞句のペアを結ぶ最短係り受けパスを抽出せよ．ただし，名詞句ペアの文節番号が$i$と$j$（$i < j$）のとき，係り受けパスは以下の仕様を満たすものとする．\n",
    "\n",
    "+ 問題48と同様に，パスは開始文節から終了文節に至るまでの各文節の表現（表層形の形態素列）を\"->\"で連結して表現する\n",
    "+ 文節$i$と$j$に含まれる名詞句はそれぞれ，XとYに置換する\n",
    "\n",
    "また，係り受けパスの形状は，以下の2通りが考えられる．\n",
    "\n",
    "+ 文節$i$から構文木の根に至る経路上に文節$j$が存在する場合: 文節$i$から文節$j$のパスを表示\n",
    "+ 上記以外で，文節$i$と文節$j$から構文木の根に至る経路上で共通の文節$k$で交わる場合: 文節$i$から文節$k$に至る直前のパスと文節$j$から文節$k$に至る直前までのパス，文節$k$の内容を\"|\"で連結して表示\n",
    "\n",
    "例えば，「吾輩はここで始めて人間というものを見た。」という文（neko.txt.cabochaの8文目）から，次のような出力が得られるはずである．\n",
    "~~~\n",
    "Xは | Yで -> 始めて -> 人間という -> ものを | 見た\n",
    "Xは | Yという -> ものを | 見た\n",
    "Xは | Yを | 見た\n",
    "Xで -> 始めて -> Y\n",
    "Xで -> 始めて -> 人間という -> Y\n",
    "Xという -> Y\n",
    "~~~"
   ]
  },
  {
   "cell_type": "code",
   "execution_count": null,
   "metadata": {},
   "outputs": [],
   "source": []
  }
 ],
 "metadata": {
  "kernelspec": {
   "display_name": "Python 3",
   "language": "python",
   "name": "python3"
  },
  "language_info": {
   "codemirror_mode": {
    "name": "ipython",
    "version": 3
   },
   "file_extension": ".py",
   "mimetype": "text/x-python",
   "name": "python",
   "nbconvert_exporter": "python",
   "pygments_lexer": "ipython3",
   "version": "3.6.3"
  }
 },
 "nbformat": 4,
 "nbformat_minor": 2
}
