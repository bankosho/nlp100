{
 "cells": [
  {
   "cell_type": "markdown",
   "metadata": {},
   "source": [
    "## 第一章"
   ]
  },
  {
   "cell_type": "markdown",
   "metadata": {},
   "source": [
    "### 00"
   ]
  },
  {
   "cell_type": "code",
   "execution_count": 28,
   "metadata": {},
   "outputs": [
    {
     "name": "stdout",
     "output_type": "stream",
     "text": [
      "desserts\n"
     ]
    }
   ],
   "source": [
    "s_1=\"stressed\"\n",
    "print(s_1[::-1])"
   ]
  },
  {
   "cell_type": "markdown",
   "metadata": {},
   "source": [
    "### 01"
   ]
  },
  {
   "cell_type": "code",
   "execution_count": 29,
   "metadata": {},
   "outputs": [
    {
     "name": "stdout",
     "output_type": "stream",
     "text": [
      "タクシー\n"
     ]
    }
   ],
   "source": [
    "s_2=\"パタトクカシーー\"\n",
    "print(s_2[1::2])"
   ]
  },
  {
   "cell_type": "markdown",
   "metadata": {},
   "source": [
    "### 02"
   ]
  },
  {
   "cell_type": "code",
   "execution_count": 65,
   "metadata": {},
   "outputs": [
    {
     "name": "stdout",
     "output_type": "stream",
     "text": [
      " パタトクカシーー\n"
     ]
    }
   ],
   "source": [
    "s_3=\"パトカー\"\n",
    "s_4=\"タクシー\"\n",
    "c=\" \"\n",
    "for a,b in zip(s_3,s_4):\n",
    "    c+=a+b\n",
    "print(c)"
   ]
  },
  {
   "cell_type": "markdown",
   "metadata": {},
   "source": [
    "### 03"
   ]
  },
  {
   "cell_type": "code",
   "execution_count": 24,
   "metadata": {
    "scrolled": true
   },
   "outputs": [
    {
     "name": "stdout",
     "output_type": "stream",
     "text": [
      "[3, 1, 4, 1, 6, 9, 2, 7, 5, 3, 5, 8, 9, 7, 10]\n"
     ]
    }
   ],
   "source": [
    "s_5=\"Now I need a drink, alcoholic of course, after the heavy lectures involving quantum mechanics.\".split()\n",
    "c=[]\n",
    "for a in range(15):\n",
    "    c.append(len(s_5[a]))\n",
    "print(c)"
   ]
  },
  {
   "cell_type": "markdown",
   "metadata": {},
   "source": [
    "## 04"
   ]
  },
  {
   "cell_type": "code",
   "execution_count": 89,
   "metadata": {},
   "outputs": [
    {
     "name": "stdout",
     "output_type": "stream",
     "text": [
      "{0: 'Hi', 1: 'H', 2: 'Li', 3: 'Be', 4: 'Bo', 5: 'C', 6: 'N', 7: 'O', 8: 'F', 9: 'N', 10: 'Na', 11: 'Mi', 12: 'Al', 13: 'Si', 14: 'Pe', 15: 'S', 16: 'Cl', 17: 'Ar', 18: 'Ki', 19: 'C'}\n"
     ]
    }
   ],
   "source": [
    "s_6=\"Hi He Lied Because Boron Could Not Oxidize Fluorine. New Nations Might Also Sign Peace Security Clause. Arthur King Can.\".split()\n",
    "c={index:word[:1] if index in [1,5,6,7,8,9,15,19] else word[0:2] for index,word in enumerate(s_6)}\n",
    "print(c)"
   ]
  },
  {
   "cell_type": "markdown",
   "metadata": {},
   "source": [
    "## 05"
   ]
  },
  {
   "cell_type": "code",
   "execution_count": 3,
   "metadata": {
    "scrolled": true
   },
   "outputs": [
    {
     "name": "stdout",
     "output_type": "stream",
     "text": [
      "[None, None, None]\n"
     ]
    }
   ],
   "source": [
    "def bri_gram(sentence):\n",
    "    i=sentence.split()\n",
    "    return  [i[j]+i[j+1] for j in range((len(i)-1))]\n",
    "print(bri_gram(\"I am an NLPer\"))"
   ]
  },
  {
   "cell_type": "markdown",
   "metadata": {},
   "source": [
    "## 06"
   ]
  },
  {
   "cell_type": "code",
   "execution_count": 5,
   "metadata": {},
   "outputs": [
    {
     "name": "stdout",
     "output_type": "stream",
     "text": [
      "X={'is', 'se', 'ra', 'ap', 'ad', 'di', 'pa', 'ar'}\n",
      "Y={'gr', 'ra', 'ap', 'ag', 'ph', 'pa', 'ar'}\n",
      "{'ra', 'ag', 'di', 'ar', 'is', 'se', 'gr', 'ap', 'ph', 'ad', 'pa'}\n",
      "{'pa', 'ap', 'ar', 'ra'}\n",
      "{'di', 'is', 'se', 'ad'}\n",
      "True\n",
      "False\n"
     ]
    }
   ],
   "source": [
    "def bri_gram_1(i):\n",
    "    return [i[j]+i[j+1] for j in range((len(i)-1))]\n",
    "print(\"X={}\".format(set(bri_gram_1(\"paraparaparadise\"))))\n",
    "print(\"Y={}\".format(set(bri_gram_1(\"paragraph\"))))\n",
    "x=set(bri_gram_1(\"paraparaparadise\"))\n",
    "y=set(bri_gram_1(\"paragraph\"))\n",
    "print(x|y)\n",
    "print(x&y)\n",
    "print(x-y)\n",
    "print(\"se\" in x)\n",
    "print(\"se\" in y)"
   ]
  },
  {
   "cell_type": "markdown",
   "metadata": {},
   "source": [
    "## 07"
   ]
  },
  {
   "cell_type": "code",
   "execution_count": 23,
   "metadata": {},
   "outputs": [
    {
     "name": "stdout",
     "output_type": "stream",
     "text": [
      "12時の気温は22.4\n"
     ]
    }
   ],
   "source": [
    "def f(x,y,z):\n",
    "    print(\"{}時の{}は{}\".format(x,y,z))\n",
    "f(12,\"気温\",22.4)"
   ]
  },
  {
   "cell_type": "markdown",
   "metadata": {},
   "source": [
    "## 08"
   ]
  },
  {
   "cell_type": "code",
   "execution_count": 25,
   "metadata": {},
   "outputs": [
    {
     "name": "stdout",
     "output_type": "stream",
     "text": [
      "WANslmtcrzmt\n"
     ]
    }
   ],
   "source": [
    "def cipher(x):\n",
    "    return \"\".join([chr(219-ord(x[i])) if x[i]>='a' and x[i]<='z' else x[i] for i in range(len(x))])\n",
    "print(cipher(\"WANhongxiang\")) "
   ]
  },
  {
   "cell_type": "markdown",
   "metadata": {},
   "source": [
    "## 09"
   ]
  },
  {
   "cell_type": "code",
   "execution_count": 45,
   "metadata": {},
   "outputs": [
    {
     "name": "stdout",
     "output_type": "stream",
     "text": [
      "I cluond't belivee that I could alcuatly unrtenadsd waht I was redanig : the peemnnohal peowr of the haumn mdni.\n"
     ]
    }
   ],
   "source": [
    "import random\n",
    "def typoglycemia(x):\n",
    "    a=x.split()\n",
    "    j=[]\n",
    "    for i in range(len(a)):\n",
    "        if len(a[i][1:len(a[i])-1])>1:\n",
    "            j.append(a[i][0]+\"\".join(random.sample(a[i][1:len(a[i])-1],len(a[i][1:len(a[i])-1])))+a[i][len(a[i])-1])\n",
    "        else:\n",
    "            j.append(a[i])\n",
    "    return \" \".join(j)\n",
    "print(typoglycemia(\"I couldn't believe that I could actually understand what I was reading : the phenomenal power of the human mind.\"))"
   ]
  },
  {
   "cell_type": "code",
   "execution_count": null,
   "metadata": {
    "collapsed": true
   },
   "outputs": [],
   "source": []
  }
 ],
 "metadata": {
  "kernelspec": {
   "display_name": "Python 3",
   "language": "python",
   "name": "python3"
  },
  "language_info": {
   "codemirror_mode": {
    "name": "ipython",
    "version": 3
   },
   "file_extension": ".py",
   "mimetype": "text/x-python",
   "name": "python",
   "nbconvert_exporter": "python",
   "pygments_lexer": "ipython3",
   "version": "3.6.3"
  }
 },
 "nbformat": 4,
 "nbformat_minor": 2
}
