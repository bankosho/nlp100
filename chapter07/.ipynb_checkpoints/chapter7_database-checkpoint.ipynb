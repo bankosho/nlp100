{
 "cells": [
  {
   "cell_type": "markdown",
   "metadata": {},
   "source": [
    "### 60. KVSの構築"
   ]
  },
  {
   "cell_type": "markdown",
   "metadata": {},
   "source": [
    "Key-Value-Store (KVS) を用い，アーティスト名（name）から活動場所（area）を検索するためのデータベースを構築せよ．"
   ]
  },
  {
   "cell_type": "code",
   "execution_count": 1,
   "metadata": {
    "collapsed": true
   },
   "outputs": [
    {
     "data": {
      "text/plain": [
       "'\\nleveldb：\\n·一种key-value的数据库\\n·key和value必须是byte列\\n  利用encode()和decode()进行str和byte列的转换 \\n·a.Put(key,value)/Get(key)/Delete(key)  \\n\\n'"
      ]
     },
     "execution_count": 1,
     "metadata": {},
     "output_type": "execute_result"
    }
   ],
   "source": [
    "'''\n",
    "leveldb：\n",
    "·一种key-value的数据库\n",
    "·key和value必须是byte列\n",
    "  利用encode()和decode()进行str和byte列的转换 \n",
    "·a.Put(key,value)/Get(key)/Delete(key)  \n",
    "\n",
    "'''"
   ]
  },
  {
   "cell_type": "code",
   "execution_count": 6,
   "metadata": {},
   "outputs": [
    {
     "name": "stdout",
     "output_type": "stream",
     "text": [
      "921337\n"
     ]
    }
   ],
   "source": [
    "import json\n",
    "import leveldb\n",
    "def build():\n",
    "    a=leveldb.LevelDB(\"artist_name_area\") #<class 'leveldb.LevelDB'>(a) 打开数据库（若没有的时候新建立）\n",
    "    with open(\"/Users/banootorishou/Programming2/artist.json\") as f: #<class '_io.TextIOWrapper'>(f)\n",
    "        for line in f:\n",
    "            dict_1=json.loads(line) #<class '_str'>(line) loads参数必须是str，把json格式处理成字典形\n",
    "            name=dict_1.get(\"name\")+'\\t'+str(dict_1.get(\"id\"))\n",
    "            area=dict_1.get(\"area\",'') #若area这个key不存在则返回后面的空格作为这个key的value\n",
    "            a.Put(name.encode(),area.encode())\n",
    "build()\n",
    "print(len(list(leveldb.LevelDB(\"artist_name_area\").RangeIter()))) #?a.RangeIter()返回能遍历这个数据库的迭代器"
   ]
  },
  {
   "cell_type": "markdown",
   "metadata": {},
   "source": [
    "### 61. KVSの検索"
   ]
  },
  {
   "cell_type": "markdown",
   "metadata": {},
   "source": [
    "60で構築したデータベースを用い，特定の（指定された）アーティストの活動場所を取得せよ．"
   ]
  },
  {
   "cell_type": "code",
   "execution_count": null,
   "metadata": {
    "collapsed": true
   },
   "outputs": [],
   "source": []
  }
 ],
 "metadata": {
  "kernelspec": {
   "display_name": "Python 3",
   "language": "python",
   "name": "python3"
  },
  "language_info": {
   "codemirror_mode": {
    "name": "ipython",
    "version": 3
   },
   "file_extension": ".py",
   "mimetype": "text/x-python",
   "name": "python",
   "nbconvert_exporter": "python",
   "pygments_lexer": "ipython3",
   "version": "3.6.3"
  }
 },
 "nbformat": 4,
 "nbformat_minor": 2
}
