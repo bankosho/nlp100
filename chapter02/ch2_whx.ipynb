{
 "cells": [
  {
   "cell_type": "markdown",
   "metadata": {},
   "source": [
    "## 10. 行数のカウント\n",
    "行数をカウントせよ．確認にはwcコマンドを用いよ．"
   ]
  },
  {
   "cell_type": "code",
   "execution_count": 2,
   "metadata": {},
   "outputs": [
    {
     "data": {
      "text/plain": [
       "2740"
      ]
     },
     "execution_count": 2,
     "metadata": {},
     "output_type": "execute_result"
    }
   ],
   "source": [
    "count=0\n",
    "with open(\"data/popular-names.txt\") as f:\n",
    "    for i in f:\n",
    "        count+=1\n",
    "count"
   ]
  },
  {
   "cell_type": "code",
   "execution_count": 4,
   "metadata": {},
   "outputs": [
    {
     "name": "stdout",
     "output_type": "stream",
     "text": [
      "    2740   10960   54242 data/popular-names.txt\r\n"
     ]
    }
   ],
   "source": [
    "!wc data/popular-names.txt"
   ]
  },
  {
   "cell_type": "markdown",
   "metadata": {},
   "source": [
    "## 11. タブをスペースに置換\n",
    "タブ1文字につきスペース1文字に置換せよ．確認にはsedコマンド，trコマンド，もしくはexpandコマンドを用いよ．"
   ]
  },
  {
   "cell_type": "code",
   "execution_count": 6,
   "metadata": {},
   "outputs": [],
   "source": [
    "with open(\"data/popular-names.txt\",\"r\") as fin,open(\"work/test_1.txt\",\"w\") as fout:\n",
    "    for line in fin:\n",
    "        fout.write(line.replace('\\t',' '))"
   ]
  },
  {
   "cell_type": "code",
   "execution_count": 17,
   "metadata": {},
   "outputs": [
    {
     "name": "stdout",
     "output_type": "stream",
     "text": [
      "Mary F 7065 1880\r\n",
      "Anna F 2604 1880\r\n",
      "Emma F 2003 1880\r\n",
      "Elizabeth F 1939 1880\r\n",
      "Minnie F 1746 1880\r\n",
      "Margaret F 1578 1880\r\n",
      "Ida F 1472 1880\r\n",
      "Alice F 1414 1880\r\n",
      "Bertha F 1320 1880\r\n",
      "Sarah F 1288 1880\r\n"
     ]
    }
   ],
   "source": [
    "!head -n10 data/popular-names.txt | tr \"\\t\" \" \""
   ]
  },
  {
   "cell_type": "code",
   "execution_count": 21,
   "metadata": {},
   "outputs": [
    {
     "name": "stdout",
     "output_type": "stream",
     "text": [
      "Mary F 7065 1880\r\n",
      "Anna F 2604 1880\r\n",
      "Emma F 2003 1880\r\n",
      "Elizabeth F 1939 1880\r\n",
      "Minnie F 1746 1880\r\n",
      "Margaret F 1578 1880\r\n",
      "Ida F 1472 1880\r\n",
      "Alice F 1414 1880\r\n",
      "Bertha F 1320 1880\r\n",
      "Sarah F 1288 1880\r\n"
     ]
    }
   ],
   "source": [
    "!head -n10 data/popular-names.txt|expand -t1"
   ]
  },
  {
   "cell_type": "markdown",
   "metadata": {},
   "source": [
    "## 12. 1列目をcol1.txtに，2列目をcol2.txtに保存\n",
    "各行の1列目だけを抜き出したものをcol1.txtに，2列目だけを抜き出したものをcol2.txtとしてファイルに保存せよ．確認にはcutコマンドを用いよ．"
   ]
  },
  {
   "cell_type": "code",
   "execution_count": 23,
   "metadata": {},
   "outputs": [],
   "source": [
    "with open(\"data/popular-names.txt\") as fin, open(\"work/cot1.txt\",\"w\") as fout_1, open(\"work/cot2.txt\",\"w\") as fout_2:\n",
    "    for line in fin:\n",
    "        line_split=line.split()\n",
    "        fout_1.write(line_split[0]+'\\n')\n",
    "        fout_2.write(line_split[1]+'\\n')"
   ]
  },
  {
   "cell_type": "code",
   "execution_count": 28,
   "metadata": {},
   "outputs": [
    {
     "name": "stdout",
     "output_type": "stream",
     "text": [
      "Mary\r\n",
      "Anna\r\n",
      "Emma\r\n",
      "Elizabeth\r\n",
      "Minnie\r\n",
      "Margaret\r\n",
      "Ida\r\n",
      "Alice\r\n",
      "Bertha\r\n",
      "Sarah\r\n"
     ]
    }
   ],
   "source": [
    "!head -n10 data/popular-names.txt | cut -f1"
   ]
  },
  {
   "cell_type": "code",
   "execution_count": 29,
   "metadata": {},
   "outputs": [
    {
     "name": "stdout",
     "output_type": "stream",
     "text": [
      "F\r\n",
      "F\r\n",
      "F\r\n",
      "F\r\n",
      "F\r\n",
      "F\r\n",
      "F\r\n",
      "F\r\n",
      "F\r\n",
      "F\r\n"
     ]
    }
   ],
   "source": [
    "!head -n10 data/popular-names.txt | cut -f2"
   ]
  },
  {
   "cell_type": "markdown",
   "metadata": {},
   "source": [
    "## 13. col1.txtとcol2.txtをマージ\n",
    "12で作ったcol1.txtとcol2.txtを結合し，元のファイルの1列目と2列目をタブ区切りで並べたテキストファイルを作成せよ．確認にはpasteコマンドを用いよ．"
   ]
  },
  {
   "cell_type": "code",
   "execution_count": 120,
   "metadata": {},
   "outputs": [],
   "source": [
    "with open(\"work/cot1.txt\") as fin_1,open(\"work/cot2.txt\") as fin_2,open(\"work/cot_merge.txt\",'w') as fout:\n",
    "    for a,b in zip(fin_1,fin_2):\n",
    "        fout.write(a.rstrip()+'\\t'+b)"
   ]
  },
  {
   "cell_type": "code",
   "execution_count": 32,
   "metadata": {},
   "outputs": [
    {
     "name": "stdout",
     "output_type": "stream",
     "text": [
      "Mary\tF\r\n",
      "Anna\tF\r\n",
      "Emma\tF\r\n",
      "Elizabeth\tF\r\n",
      "Minnie\tF\r\n",
      "Margaret\tF\r\n",
      "Ida\tF\r\n",
      "Alice\tF\r\n",
      "Bertha\tF\r\n",
      "Sarah\tF\r\n"
     ]
    }
   ],
   "source": [
    "!paste work/cot1.txt work/cot2.txt|head -n10"
   ]
  },
  {
   "cell_type": "markdown",
   "metadata": {},
   "source": [
    "## 14. 先頭からN行を出力\n",
    "自然数Nをコマンドライン引数などの手段で受け取り，入力のうち先頭のN行だけを表示せよ．確認にはheadコマンドを用いよ．"
   ]
  },
  {
   "cell_type": "code",
   "execution_count": 48,
   "metadata": {},
   "outputs": [
    {
     "name": "stdout",
     "output_type": "stream",
     "text": [
      "Mary\tF\t7065\t1880\n",
      "Anna\tF\t2604\t1880\n",
      "Emma\tF\t2003\t1880\n",
      "Elizabeth\tF\t1939\t1880\n",
      "Minnie\tF\t1746\t1880\n"
     ]
    }
   ],
   "source": [
    "def line(num):\n",
    "    with open(\"data/popular-names.txt\") as fin:\n",
    "        for line in list(fin)[:num]:\n",
    "            print(line,end=\"\")\n",
    "line(int(input(\"head=\")))   "
   ]
  },
  {
   "cell_type": "code",
   "execution_count": 43,
   "metadata": {},
   "outputs": [
    {
     "name": "stdout",
     "output_type": "stream",
     "text": [
      "Mary\tF\t7065\t1880\r\n",
      "Anna\tF\t2604\t1880\r\n",
      "Emma\tF\t2003\t1880\r\n",
      "Elizabeth\tF\t1939\t1880\r\n",
      "Minnie\tF\t1746\t1880\r\n"
     ]
    }
   ],
   "source": [
    "!head -n5 data/popular-names.txt"
   ]
  },
  {
   "cell_type": "markdown",
   "metadata": {},
   "source": [
    "## 15. 末尾のN行を出力"
   ]
  },
  {
   "cell_type": "markdown",
   "metadata": {},
   "source": [
    "自然数Nをコマンドライン引数などの手段で受け取り，入力のうち末尾のN行だけを表示せよ．確認にはtailコマンドを用いよ．"
   ]
  },
  {
   "cell_type": "code",
   "execution_count": 47,
   "metadata": {},
   "outputs": [
    {
     "name": "stdout",
     "output_type": "stream",
     "text": [
      "Benjamin\tM\t14569\t2016\n",
      "Jacob\tM\t14416\t2016\n",
      "Michael\tM\t13998\t2016\n",
      "Elijah\tM\t13764\t2016\n",
      "Ethan\tM\t13758\t2016\n"
     ]
    }
   ],
   "source": [
    "def tail(num):\n",
    "    with open(\"data/popular-names.txt\") as f:\n",
    "        for line in list(f)[-num:]:\n",
    "            print(line,end=\"\")\n",
    "        \n",
    "tail(int(input(\"tail=\")))"
   ]
  },
  {
   "cell_type": "code",
   "execution_count": 39,
   "metadata": {},
   "outputs": [
    {
     "name": "stdout",
     "output_type": "stream",
     "text": [
      "Benjamin\tM\t14569\t2016\r\n",
      "Jacob\tM\t14416\t2016\r\n",
      "Michael\tM\t13998\t2016\r\n",
      "Elijah\tM\t13764\t2016\r\n",
      "Ethan\tM\t13758\t2016\r\n"
     ]
    }
   ],
   "source": [
    "!tail -n5 data/popular-names.txt"
   ]
  },
  {
   "cell_type": "markdown",
   "metadata": {},
   "source": [
    "## 16. ファイルをN分割する"
   ]
  },
  {
   "cell_type": "markdown",
   "metadata": {},
   "source": [
    "自然数Nをコマンドライン引数などの手段で受け取り，入力のファイルを行単位でN分割せよ．同様の処理をsplitコマンドで実現せよ．"
   ]
  },
  {
   "cell_type": "code",
   "execution_count": 74,
   "metadata": {},
   "outputs": [],
   "source": [
    "def split(N):\n",
    "    with open(\"data/popular-names.txt\") as f:\n",
    "        lines=list(f)\n",
    "        x=2740//N\n",
    "        for i in range(N-1):\n",
    "            with open(\"work/split{}.txt\".format(i),\"w\") as fout:\n",
    "                for line in lines[i*x:(i+1)*x]:\n",
    "                    fout.write(line)\n",
    "        with open(\"work/split{}.txt\".format(N),\"w\") as fout:\n",
    "            for line in lines[x*(N-1):]:\n",
    "                fout.write(line)\n",
    "split(int(input(\"split=\")))"
   ]
  },
  {
   "cell_type": "code",
   "execution_count": 87,
   "metadata": {},
   "outputs": [],
   "source": [
    "!split -l 548 data/popular-names.txt"
   ]
  },
  {
   "cell_type": "markdown",
   "metadata": {},
   "source": [
    "## 17. １列目の文字列の異なり"
   ]
  },
  {
   "cell_type": "markdown",
   "metadata": {},
   "source": [
    "1列目の文字列の種類（異なる文字列の集合）を求めよ．確認にはcut, sort, uniqコマンドを用いよ．"
   ]
  },
  {
   "cell_type": "code",
   "execution_count": 138,
   "metadata": {},
   "outputs": [
    {
     "name": "stdout",
     "output_type": "stream",
     "text": [
      "132\n"
     ]
    }
   ],
   "source": [
    "with open(\"data/popular-names.txt\") as f:\n",
    "    print(len(set([x.split()[0] for x in f])))"
   ]
  },
  {
   "cell_type": "code",
   "execution_count": 99,
   "metadata": {},
   "outputs": [
    {
     "name": "stdout",
     "output_type": "stream",
     "text": [
      "Abigail\r\n",
      "Aiden\r\n",
      "Alexander\r\n",
      "Alexis\r\n",
      "Alice\r\n",
      "Amanda\r\n",
      "Amy\r\n",
      "Andrew\r\n",
      "Angela\r\n",
      "Anna\r\n"
     ]
    }
   ],
   "source": [
    "!cut -f 1 data/popular-names.txt|sort -u |head -n10"
   ]
  },
  {
   "cell_type": "markdown",
   "metadata": {},
   "source": [
    "## 18. 各行を3コラム目の数値の降順にソート"
   ]
  },
  {
   "cell_type": "markdown",
   "metadata": {},
   "source": [
    "各行を3コラム目の数値の逆順で整列せよ（注意: 各行の内容は変更せずに並び替えよ）．確認にはsortコマンドを用いよ（この問題はコマンドで実行した時の結果と合わなくてもよい）"
   ]
  },
  {
   "cell_type": "code",
   "execution_count": 109,
   "metadata": {},
   "outputs": [],
   "source": [
    "with open(\"data/popular-names.txt\") as fin:\n",
    "    lis=sorted(list(fin),key=lambda x: x.split(\"\\t\")[2],reverse=True)"
   ]
  },
  {
   "cell_type": "code",
   "execution_count": 111,
   "metadata": {},
   "outputs": [
    {
     "name": "stdout",
     "output_type": "stream",
     "text": [
      "Linda\tF\t99685\t1947\n",
      "James\tM\t9951\t1911\n",
      "Mildred\tF\t9921\t1913\n",
      "Mary\tF\t9889\t1886\n",
      "Mary\tF\t9888\t1887\n",
      "John\tM\t9829\t1900\n",
      "Elizabeth\tF\t9692\t2012\n",
      "Anna\tF\t9687\t1913\n",
      "Frances\tF\t9677\t1914\n",
      "John\tM\t9655\t1880\n"
     ]
    }
   ],
   "source": [
    "for x in lis[:10]:\n",
    "    print(x,end=\"\")"
   ]
  },
  {
   "cell_type": "code",
   "execution_count": 119,
   "metadata": {},
   "outputs": [
    {
     "name": "stdout",
     "output_type": "stream",
     "text": [
      "Linda\tF\t99685\t1947\r\n",
      "James\tM\t9951\t1911\r\n",
      "Mildred\tF\t9921\t1913\r\n",
      "Mary\tF\t9889\t1886\r\n",
      "Mary\tF\t9888\t1887\r\n",
      "John\tM\t9829\t1900\r\n",
      "Elizabeth\tF\t9692\t2012\r\n",
      "Anna\tF\t9687\t1913\r\n",
      "Frances\tF\t9677\t1914\r\n",
      "John\tM\t9655\t1880\r\n",
      "sort: Broken pipe\r\n"
     ]
    }
   ],
   "source": [
    "!sort -r -k 3 data/popular-names.txt|head -n10"
   ]
  },
  {
   "cell_type": "markdown",
   "metadata": {},
   "source": [
    "## 19. 各行の1コラム目の文字列の出現頻度を求め，出現頻度の高い順に並べる"
   ]
  },
  {
   "cell_type": "markdown",
   "metadata": {},
   "source": [
    "各行の1列目の文字列の出現頻度を求め，その高い順に並べて表示せよ．確認にはcut, uniq, sortコマンドを用いよ"
   ]
  },
  {
   "cell_type": "code",
   "execution_count": 154,
   "metadata": {},
   "outputs": [
    {
     "name": "stdout",
     "output_type": "stream",
     "text": [
      "('James', 116)\n",
      "('William', 109)\n",
      "('John', 108)\n",
      "('Robert', 108)\n",
      "('Mary', 92)\n",
      "('Charles', 75)\n",
      "('Michael', 74)\n",
      "('Elizabeth', 73)\n",
      "('Joseph', 71)\n",
      "('Margaret', 60)\n"
     ]
    }
   ],
   "source": [
    "from collections import Counter\n",
    "with open(\"data/popular-names.txt\") as f:\n",
    "    c=Counter([x.split()[0] for x in f])\n",
    "    a=sorted(c,key=lambda x:c.get(x),reverse=True)\n",
    "    for i in range(10):\n",
    "        print((a[i],c.get(a[i])))"
   ]
  },
  {
   "cell_type": "code",
   "execution_count": 156,
   "metadata": {},
   "outputs": [
    {
     "name": "stdout",
     "output_type": "stream",
     "text": [
      " 116 James\r\n",
      " 109 William\r\n",
      " 108 Robert\r\n",
      " 108 John\r\n",
      "  92 Mary\r\n",
      "  75 Charles\r\n",
      "  74 Michael\r\n",
      "  73 Elizabeth\r\n",
      "  71 Joseph\r\n",
      "  60 Margaret\r\n"
     ]
    }
   ],
   "source": [
    "!cut -f1 data/popular-names.txt | sort | uniq -c | sort -r | head -n10"
   ]
  },
  {
   "cell_type": "code",
   "execution_count": null,
   "metadata": {},
   "outputs": [],
   "source": []
  }
 ],
 "metadata": {
  "kernelspec": {
   "display_name": "Python 3",
   "language": "python",
   "name": "python3"
  },
  "language_info": {
   "codemirror_mode": {
    "name": "ipython",
    "version": 3
   },
   "file_extension": ".py",
   "mimetype": "text/x-python",
   "name": "python",
   "nbconvert_exporter": "python",
   "pygments_lexer": "ipython3",
   "version": "3.6.3"
  }
 },
 "nbformat": 4,
 "nbformat_minor": 2
}
