{
 "cells": [
  {
   "cell_type": "markdown",
   "metadata": {},
   "source": [
    "# 第4章: 形態素解析"
   ]
  },
  {
   "cell_type": "markdown",
   "metadata": {},
   "source": [
    "夏目漱石の小説『吾輩は猫である』の文章（neko.txt）をMeCabを使って形態素解析し，その結果をneko.txt.mecabというファイルに保存せよ．このファイルを用いて，以下の問に対応するプログラムを実装せよ．\n",
    "\n",
    "なお，問題37, 38, 39はmatplotlibもしくはGnuplotを用いるとよい．"
   ]
  },
  {
   "cell_type": "code",
   "execution_count": 2,
   "metadata": {
    "collapsed": true
   },
   "outputs": [],
   "source": [
    "!mecab neko.txt -o neko.txt.mecab"
   ]
  },
  {
   "cell_type": "markdown",
   "metadata": {},
   "source": [
    "###  30. 形態素解析結果の読み込み\n"
   ]
  },
  {
   "cell_type": "markdown",
   "metadata": {},
   "source": [
    "形態素解析結果（neko.txt.mecab）を読み込むプログラムを実装せよ．ただし，各形態素は表層形（surface），基本形（base），品詞（pos），品詞細分類1（pos1）をキーとするマッピング型に格納し，1文を形態素（マッピング型）のリストとして表現せよ．第4章の残りの問題では，ここで作ったプログラムを活用せよ"
   ]
  },
  {
   "cell_type": "code",
   "execution_count": 18,
   "metadata": {},
   "outputs": [
    {
     "name": "stdout",
     "output_type": "stream",
     "text": [
      "[{'surface': '一', 'base': '一', 'pos': '名詞', 'pos1': '数'}, {'surface': '\\u3000', 'base': '\\u3000', 'pos': '記号', 'pos1': '空白'}, {'surface': '吾輩', 'base': '吾輩', 'pos': '名詞', 'pos1': '代名詞'}, {'surface': 'は', 'base': 'は', 'pos': '助詞', 'pos1': '係助詞'}, {'surface': '猫', 'base': '猫', 'pos': '名詞', 'pos1': '一般'}, {'surface': 'で', 'base': 'だ', 'pos': '助動詞', 'pos1': '*'}, {'surface': 'ある', 'base': 'ある', 'pos': '助動詞', 'pos1': '*'}, {'surface': '。', 'base': '。', 'pos': '記号', 'pos1': '句点'}]\n",
      "[{'surface': '名前', 'base': '名前', 'pos': '名詞', 'pos1': '一般'}, {'surface': 'は', 'base': 'は', 'pos': '助詞', 'pos1': '係助詞'}, {'surface': 'まだ', 'base': 'まだ', 'pos': '副詞', 'pos1': '助詞類接続'}, {'surface': '無い', 'base': '無い', 'pos': '形容詞', 'pos1': '自立'}, {'surface': '。', 'base': '。', 'pos': '記号', 'pos1': '句点'}]\n",
      "[{'surface': '\\u3000', 'base': '\\u3000', 'pos': '記号', 'pos1': '空白'}, {'surface': 'どこ', 'base': 'どこ', 'pos': '名詞', 'pos1': '代名詞'}, {'surface': 'で', 'base': 'で', 'pos': '助詞', 'pos1': '格助詞'}, {'surface': '生れ', 'base': '生れる', 'pos': '動詞', 'pos1': '自立'}, {'surface': 'た', 'base': 'た', 'pos': '助動詞', 'pos1': '*'}, {'surface': 'か', 'base': 'か', 'pos': '助詞', 'pos1': '副助詞／並立助詞／終助詞'}, {'surface': 'とんと', 'base': 'とんと', 'pos': '副詞', 'pos1': '一般'}, {'surface': '見当', 'base': '見当', 'pos': '名詞', 'pos1': 'サ変接続'}, {'surface': 'が', 'base': 'が', 'pos': '助詞', 'pos1': '格助詞'}, {'surface': 'つか', 'base': 'つく', 'pos': '動詞', 'pos1': '自立'}, {'surface': 'ぬ', 'base': 'ぬ', 'pos': '助動詞', 'pos1': '*'}, {'surface': '。', 'base': '。', 'pos': '記号', 'pos1': '句点'}]\n"
     ]
    }
   ],
   "source": [
    "with open(\"neko.txt.mecab\") as f:\n",
    "    list_1=[]\n",
    "    list_2=[]\n",
    "    for line in f.readlines():\n",
    "        if not 'EOS'in line:\n",
    "            face=line.split('\\t')\n",
    "            base=face[1].split(',')\n",
    "            dict_1={'surface':face[0],'base':base[6],'pos':base[0],'pos1':base[1]}\n",
    "            list_1.append(dict_1)\n",
    "            if base[1]=='句点':\n",
    "                list_2.append(list_1)\n",
    "                list_1=[]\n",
    "for a in range(3):\n",
    "    print(list_2[a])"
   ]
  },
  {
   "cell_type": "markdown",
   "metadata": {},
   "source": [
    "### 31. 動詞"
   ]
  },
  {
   "cell_type": "markdown",
   "metadata": {},
   "source": [
    "動詞の表層形をすべて抽出せよ．"
   ]
  },
  {
   "cell_type": "code",
   "execution_count": 12,
   "metadata": {},
   "outputs": [
    {
     "name": "stdout",
     "output_type": "stream",
     "text": [
      "生れ つか し 泣い し いる 始め 見 聞く 捕え 煮 食う 思わ 載せ られ 持ち上げ られ し あっ 落ちつい 見 見 思っ 残っ いる さ れ し 逢っ 出会わ し のみ なら し いる 吹く せ 弱っ 飲む 知っ 坐っ おっ する し 始め 動く 動く 分ら 廻る なる "
     ]
    }
   ],
   "source": [
    "with open(\"neko.txt.mecab\") as f:\n",
    "    list_3=[]\n",
    "    for line in f.readlines():\n",
    "        if not 'EOS'in line:\n",
    "            face=line.split('\\t')\n",
    "            base=face[1].split(',')\n",
    "            if base[0]=='動詞':\n",
    "                list_3.append(face[0])\n",
    "            \n",
    "for a in range(50):\n",
    "    print(list_3[a],end=' ')"
   ]
  },
  {
   "cell_type": "markdown",
   "metadata": {},
   "source": [
    "### 32. 動詞の原形"
   ]
  },
  {
   "cell_type": "markdown",
   "metadata": {},
   "source": [
    "動詞の原形をすべて抽出せよ．"
   ]
  },
  {
   "cell_type": "code",
   "execution_count": 27,
   "metadata": {},
   "outputs": [
    {
     "name": "stdout",
     "output_type": "stream",
     "text": [
      "生れる つく する 泣く する いる 始める 見る 聞く 捕える 煮る 食う 思う 載せる られる 持ち上げる られる する ある 落ちつく 見る 見る 思う 残る いる する れる する 逢う 出会う する のむ なる する いる 吹く する 弱る 飲む 知る 坐る おる する する 始める 動く 動く 分る 廻る なる "
     ]
    }
   ],
   "source": [
    "list_4=[]\n",
    "for line in list_2:\n",
    "    for line_1 in line:\n",
    "        if line_1['pos']=='動詞':\n",
    "            list_4.append(line_1['base'])\n",
    "for a in range(50):\n",
    "    print(list_4[a],end=' ')"
   ]
  },
  {
   "cell_type": "markdown",
   "metadata": {},
   "source": [
    "### 33. サ変名詞"
   ]
  },
  {
   "cell_type": "markdown",
   "metadata": {},
   "source": [
    "サ変接続の名詞をすべて抽出せよ．"
   ]
  },
  {
   "cell_type": "code",
   "execution_count": 25,
   "metadata": {},
   "outputs": [
    {
     "name": "stdout",
     "output_type": "stream",
     "text": [
      "見当 記憶 話 装飾 突起 運転 記憶 分別 決心 我慢 餓死 訪問 始末 猶予 遭遇 我慢 記憶 返報 勉強 勉強 昼寝 珍重 昼寝 経験 供 供 供 供 —— —— 同居 観察 断言 同衾 供 迫害 尊敬 生活 剿滅 議論 所有 憤慨 観念 御馳走 掠奪 代言 我儘 我儘 失敗 話 "
     ]
    }
   ],
   "source": [
    "list_5=[]\n",
    "for line in list_2:\n",
    "    for line_1 in line:\n",
    "        if line_1['pos']=='名詞' and line_1['pos1']=='サ変接続':\n",
    "            list_5.append(line_1['surface'])\n",
    "for a in range(50):\n",
    "    print(list_5[a],end=' ')"
   ]
  },
  {
   "cell_type": "markdown",
   "metadata": {},
   "source": [
    "### 34. 「AのB」"
   ]
  },
  {
   "cell_type": "markdown",
   "metadata": {},
   "source": [
    "2つの名詞が「の」で連結されている名詞句を抽出せよ．"
   ]
  },
  {
   "cell_type": "code",
   "execution_count": 28,
   "metadata": {},
   "outputs": [
    {
     "name": "stdout",
     "output_type": "stream",
     "text": [
      "彼の掌 掌の上 書生の顔 はずの顔 顔の真中 穴の中 書生の掌 掌の裏 何の事 肝心の母親 藁の上 笹原の中 池の前 池の上 一樹の蔭 垣根の穴 隣家の三 時の通路 一刻の猶予 家の内 彼の書生 以外の人間 前の書生 おさんの隙 おさんの三 胸の痞 家の主人 主人の方 鼻の下 吾輩の顔 "
     ]
    }
   ],
   "source": [
    "list_6=[]\n",
    "for line in list_2:\n",
    "    for i in range(len(line)-1):\n",
    "        if line[i]['surface']=='の' and line[i-1]['pos']=='名詞' and line[i+1]['pos']=='名詞':\n",
    "            list_6.append(line[i-1]['surface']+line[i]['surface']+line[i+1]['surface'])\n",
    "for a in range(30):\n",
    "    print(list_6[a],end=' ')"
   ]
  },
  {
   "cell_type": "markdown",
   "metadata": {},
   "source": [
    "### 35. 名詞の連接"
   ]
  },
  {
   "cell_type": "markdown",
   "metadata": {},
   "source": [
    "名詞の連接（連続して出現する名詞）を最長一致で抽出せよ．"
   ]
  },
  {
   "cell_type": "code",
   "execution_count": 32,
   "metadata": {},
   "outputs": [
    {
     "name": "stdout",
     "output_type": "stream",
     "text": [
      "人間中 一番獰悪 時妙 一毛 その後猫 一度 ぷうぷうと煙 邸内 三毛 書生以外 四五遍 この間おさん 三馬 御台所 まま奥 住家 終日書斎 勉強家 勉強家 勤勉家 二三ページ 主人以外 限り吾輩 朝主人 一番心持 二人 一つ床 一人 最後大変 ——猫 神経胃弱性 物指 尻ぺたをひどく 言語同断 家内総がかり 筋向 白君 度毎 白君 先日玉 四疋 三日目 四疋 白君 我等猫族 家族的生活 三毛君 所有権 我々同族間 目刺 "
     ]
    }
   ],
   "source": [
    "list_7=[]\n",
    "for line in list_2:\n",
    "    mingci=[]\n",
    "    for line_1 in line:\n",
    "        if line_1['pos']=='名詞':\n",
    "            mingci.append(line_1['surface'])\n",
    "        else:\n",
    "            if len(mingci)>1:\n",
    "                list_7.append(\"\".join(mingci))\n",
    "            mingci=[]\n",
    "    if len(mingci)>1:\n",
    "        list_7.append(\"\".join(mengci))\n",
    "for a in range(50):\n",
    "    print(list_7[a],end=' ')"
   ]
  },
  {
   "cell_type": "markdown",
   "metadata": {},
   "source": [
    "### 36. 単語の出現頻度"
   ]
  },
  {
   "cell_type": "markdown",
   "metadata": {},
   "source": [
    "文章中に出現する単語とその出現頻度を求め，出現頻度の高い順に並べよ．"
   ]
  },
  {
   "cell_type": "code",
   "execution_count": 111,
   "metadata": {},
   "outputs": [
    {
     "name": "stdout",
     "output_type": "stream",
     "text": [
      "('の', 9194)\n",
      "('。', 7486)\n",
      "('て', 6868)\n",
      "('、', 6772)\n",
      "('は', 6420)\n",
      "('に', 6243)\n",
      "('を', 6071)\n",
      "('と', 5508)\n",
      "('が', 5337)\n",
      "('た', 3988)\n"
     ]
    }
   ],
   "source": [
    "from collections import Counter\n",
    "list_8=[]\n",
    "list_9=[]\n",
    "for line in list_2:\n",
    "    for line_1 in line:\n",
    "        list_8.append(line_1['surface'])\n",
    "word_counter=Counter(list_8)\n",
    "list_9 = word_counter.most_common()\n",
    "for a in range(10):\n",
    "    print(list_9[a])"
   ]
  },
  {
   "cell_type": "markdown",
   "metadata": {},
   "source": [
    "### 37. 頻度上位10語"
   ]
  },
  {
   "cell_type": "markdown",
   "metadata": {},
   "source": [
    "出現頻度が高い10語とその出現頻度をグラフ（例えば棒グラフなど）で表示せよ．"
   ]
  },
  {
   "cell_type": "code",
   "execution_count": 114,
   "metadata": {},
   "outputs": [
    {
     "data": {
      "image/png": "[encoded data removed]",
      "text/plain": [
       "<matplotlib.figure.Figure at 0x10d204908>"
      ]
     },
     "metadata": {},
     "output_type": "display_data"
    }
   ],
   "source": [
    "%matplotlib inline\n",
    "import matplotlib.pylab as plt\n",
    "from matplotlib.font_manager import FontProperties\n",
    "\n",
    "fp = FontProperties(fname='/Users/banootorishou/Library/Fonts/ipag.ttf');\n",
    "list_10=list(zip(*list_9[:10]))\n",
    "x=list_10[0]\n",
    "y=list_10[1]\n",
    "\n",
    "plt.bar(left=range(10),height=y,tick_label=x,align='center')\n",
    "plt.xticks(range(10),x,fontproperties=fp)\n",
    "plt.title(\"出現頻度\",fontproperties=fp)\n",
    "plt.show()"
   ]
  },
  {
   "cell_type": "markdown",
   "metadata": {},
   "source": [
    "### 38.ヒストグラム"
   ]
  },
  {
   "cell_type": "markdown",
   "metadata": {},
   "source": [
    "単語の出現頻度のヒストグラム（横軸に出現頻度，縦軸に出現頻度をとる単語の種類数を棒グラフで表したもの）を描け．"
   ]
  },
  {
   "cell_type": "code",
   "execution_count": 132,
   "metadata": {},
   "outputs": [
    {
     "data": {
      "image/png": "[encoded data removed]",
      "text/plain": [
       "<matplotlib.figure.Figure at 0x105e31198>"
      ]
     },
     "metadata": {},
     "output_type": "display_data"
    }
   ],
   "source": [
    "%matplotlib inline\n",
    "import matplotlib.pylab as plt\n",
    "from matplotlib.font_manager import FontProperties\n",
    "\n",
    "fp = FontProperties(fname='/Users/banootorishou/Library/Fonts/ipag.ttf');\n",
    "list_11=list(zip(*list_9))\n",
    "plt.hist(list_11[1],bins=15,range=(1,15))\n",
    "plt.xlim(1,15)\n",
    "plt.show()"
   ]
  },
  {
   "cell_type": "markdown",
   "metadata": {},
   "source": [
    "## 39. Zipfの法則"
   ]
  },
  {
   "cell_type": "markdown",
   "metadata": {},
   "source": [
    "単語の出現頻度順位を横軸，その出現頻度を縦軸として，両対数グラフをプロットせよ．"
   ]
  },
  {
   "cell_type": "code",
   "execution_count": 144,
   "metadata": {},
   "outputs": [
    {
     "data": {
      "image/png": "[encoded data removed]",
      "text/plain": [
       "<matplotlib.figure.Figure at 0x10fbaaeb8>"
      ]
     },
     "metadata": {},
     "output_type": "display_data"
    }
   ],
   "source": [
    "%matplotlib inline\n",
    "import matplotlib.pylab as plt\n",
    "from matplotlib.font_manager import FontProperties\n",
    "\n",
    "fp = FontProperties(fname='/Users/banootorishou/Library/Fonts/ipag.ttf');\n",
    "plt.scatter(range(1,len(list_11[1])+1),list_11[1])\n",
    "plt.xscale('log')\n",
    "plt.yscale('log')\n",
    "plt.show()"
   ]
  },
  {
   "cell_type": "code",
   "execution_count": null,
   "metadata": {
    "collapsed": true
   },
   "outputs": [],
   "source": []
  }
 ],
 "metadata": {
  "kernelspec": {
   "display_name": "Python 3",
   "language": "python",
   "name": "python3"
  },
  "language_info": {
   "codemirror_mode": {
    "name": "ipython",
    "version": 3
   },
   "file_extension": ".py",
   "mimetype": "text/x-python",
   "name": "python",
   "nbconvert_exporter": "python",
   "pygments_lexer": "ipython3",
   "version": "3.6.3"
  }
 },
 "nbformat": 4,
 "nbformat_minor": 2
}
