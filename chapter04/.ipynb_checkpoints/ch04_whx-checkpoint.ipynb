{
 "cells": [
  {
   "cell_type": "markdown",
   "metadata": {},
   "source": [
    "夏目漱石の小説『吾輩は猫である』の文章（neko.txt）をMeCabを使って形態素解析し，その結果をneko.txt.mecabというファイルに保存せよ．このファイルを用いて，以下の問に対応するプログラムを実装せよ．\n",
    "\n",
    "なお，問題37, 38, 39はmatplotlibもしくはGnuplotを用いるとよい．"
   ]
  },
  {
   "cell_type": "code",
   "execution_count": 2,
   "metadata": {},
   "outputs": [],
   "source": [
    "!mecab neko.txt -o neko.txt.mecab"
   ]
  },
  {
   "cell_type": "markdown",
   "metadata": {},
   "source": [
    "## 30. 形態素解析結果の読み込み"
   ]
  },
  {
   "cell_type": "markdown",
   "metadata": {},
   "source": [
    "形態素解析結果（neko.txt.mecab）を読み込むプログラムを実装せよ．ただし，各形態素は表層形（surface），基本形（base），品詞（pos），品詞細分類1（pos1）をキーとするマッピング型に格納し，1文を形態素（マッピング型）のリストとして表現せよ．第4章の残りの問題では，ここで作ったプログラムを活用せよ．\n",
    "\n"
   ]
  },
  {
   "cell_type": "code",
   "execution_count": 3,
   "metadata": {},
   "outputs": [
    {
     "data": {
      "text/plain": [
       "[[{'base': '一', 'pos': '名詞', 'pos1': '数', 'surface': '一'},\n",
       "  {'base': '\\u3000', 'pos': '記号', 'pos1': '空白', 'surface': '\\u3000'},\n",
       "  {'base': '吾輩', 'pos': '名詞', 'pos1': '代名詞', 'surface': '吾輩'},\n",
       "  {'base': 'は', 'pos': '助詞', 'pos1': '係助詞', 'surface': 'は'},\n",
       "  {'base': '猫', 'pos': '名詞', 'pos1': '一般', 'surface': '猫'},\n",
       "  {'base': 'だ', 'pos': '助動詞', 'pos1': '*', 'surface': 'で'},\n",
       "  {'base': 'ある', 'pos': '助動詞', 'pos1': '*', 'surface': 'ある'},\n",
       "  {'base': '。', 'pos': '記号', 'pos1': '句点', 'surface': '。'}],\n",
       " [{'base': '名前', 'pos': '名詞', 'pos1': '一般', 'surface': '名前'},\n",
       "  {'base': 'は', 'pos': '助詞', 'pos1': '係助詞', 'surface': 'は'},\n",
       "  {'base': 'まだ', 'pos': '副詞', 'pos1': '助詞類接続', 'surface': 'まだ'},\n",
       "  {'base': '無い', 'pos': '形容詞', 'pos1': '自立', 'surface': '無い'},\n",
       "  {'base': '。', 'pos': '記号', 'pos1': '句点', 'surface': '。'}],\n",
       " [{'base': '\\u3000', 'pos': '記号', 'pos1': '空白', 'surface': '\\u3000'},\n",
       "  {'base': 'どこ', 'pos': '名詞', 'pos1': '代名詞', 'surface': 'どこ'},\n",
       "  {'base': 'で', 'pos': '助詞', 'pos1': '格助詞', 'surface': 'で'},\n",
       "  {'base': '生れる', 'pos': '動詞', 'pos1': '自立', 'surface': '生れ'},\n",
       "  {'base': 'た', 'pos': '助動詞', 'pos1': '*', 'surface': 'た'},\n",
       "  {'base': 'か', 'pos': '助詞', 'pos1': '副助詞／並立助詞／終助詞', 'surface': 'か'},\n",
       "  {'base': 'とんと', 'pos': '副詞', 'pos1': '一般', 'surface': 'とんと'},\n",
       "  {'base': '見当', 'pos': '名詞', 'pos1': 'サ変接続', 'surface': '見当'},\n",
       "  {'base': 'が', 'pos': '助詞', 'pos1': '格助詞', 'surface': 'が'},\n",
       "  {'base': 'つく', 'pos': '動詞', 'pos1': '自立', 'surface': 'つか'},\n",
       "  {'base': 'ぬ', 'pos': '助動詞', 'pos1': '*', 'surface': 'ぬ'},\n",
       "  {'base': '。', 'pos': '記号', 'pos1': '句点', 'surface': '。'}]]"
      ]
     },
     "execution_count": 3,
     "metadata": {},
     "output_type": "execute_result"
    }
   ],
   "source": [
    "with open(\"neko.txt.mecab\") as f:\n",
    "    lis_tem=[]\n",
    "    res=[]\n",
    "    for line in f.readlines():\n",
    "        if 'EOS' not in line:\n",
    "            tem=line.split('\\t')\n",
    "            right=tem[1].split(',')\n",
    "            lis_tem.append({'surface':tem[0],'base':right[6],'pos':right[0],'pos1':right[1]})\n",
    "            if right[1]=='句点':\n",
    "                res.append(lis_tem)\n",
    "                lis_tem=[]\n",
    "res[:3]"
   ]
  },
  {
   "cell_type": "markdown",
   "metadata": {},
   "source": [
    "## 31. 動詞"
   ]
  },
  {
   "cell_type": "markdown",
   "metadata": {},
   "source": [
    "動詞の表層形をすべて抽出せよ．"
   ]
  },
  {
   "cell_type": "code",
   "execution_count": 158,
   "metadata": {},
   "outputs": [
    {
     "data": {
      "text/plain": [
       "['生れ', 'つか', 'し', '泣い', 'し', 'いる', '始め', '見', '聞く', '捕え']"
      ]
     },
     "execution_count": 158,
     "metadata": {},
     "output_type": "execute_result"
    }
   ],
   "source": [
    "surface=[]\n",
    "for x in res:\n",
    "    for y in x:\n",
    "        if y[\"pos\"]==\"動詞\":surface.append(y[\"surface\"])\n",
    "surface[:10]"
   ]
  },
  {
   "cell_type": "markdown",
   "metadata": {},
   "source": [
    "## 32. 動詞の原形"
   ]
  },
  {
   "cell_type": "markdown",
   "metadata": {},
   "source": [
    "動詞の原形をすべて抽出せよ"
   ]
  },
  {
   "cell_type": "code",
   "execution_count": 159,
   "metadata": {},
   "outputs": [
    {
     "data": {
      "text/plain": [
       "['生れる', 'つく', 'する', '泣く', 'する', 'いる', '始める', '見る', '聞く', '捕える']"
      ]
     },
     "execution_count": 159,
     "metadata": {},
     "output_type": "execute_result"
    }
   ],
   "source": [
    "base=[]\n",
    "for x in res:\n",
    "    for y in x:\n",
    "        if y[\"pos\"]==\"動詞\":base.append(y[\"base\"])\n",
    "base[:10]"
   ]
  },
  {
   "cell_type": "markdown",
   "metadata": {},
   "source": [
    "## 33. 「AのB」"
   ]
  },
  {
   "cell_type": "markdown",
   "metadata": {},
   "source": [
    "2つの名詞が「の」で連結されている名詞句を抽出せよ"
   ]
  },
  {
   "cell_type": "code",
   "execution_count": 160,
   "metadata": {},
   "outputs": [
    {
     "data": {
      "text/plain": [
       "['彼の掌', '掌の上', '書生の顔', 'はずの顔', '顔の真中', '穴の中', '書生の掌', '掌の裏', '何の事', '肝心の母親']"
      ]
     },
     "execution_count": 160,
     "metadata": {},
     "output_type": "execute_result"
    }
   ],
   "source": [
    "no_noun=[]\n",
    "for x in res:\n",
    "    for i in range(len(x)-1):\n",
    "        if x[i][\"surface\"]==\"の\" and x[i-1]['pos']=='名詞' and x[i+1]['pos']=='名詞':\n",
    "            no_noun.append(x[i-1]['surface']+\"の\"+x[i+1]['surface'])\n",
    "no_noun[:10]"
   ]
  },
  {
   "cell_type": "markdown",
   "metadata": {},
   "source": [
    "## 34. 名詞の連接"
   ]
  },
  {
   "cell_type": "markdown",
   "metadata": {},
   "source": [
    "名詞の連接（連続して出現する名詞）を最長一致で抽出せよ．"
   ]
  },
  {
   "cell_type": "code",
   "execution_count": 161,
   "metadata": {},
   "outputs": [
    {
     "data": {
      "text/plain": [
       "['人間中', '一番獰悪', '時妙', '一毛', 'その後猫', '一度', 'ぷうぷうと煙', '邸内', '三毛', '書生以外']"
      ]
     },
     "execution_count": 161,
     "metadata": {},
     "output_type": "execute_result"
    }
   ],
   "source": [
    "long_noun=[]\n",
    "for x in res:\n",
    "    tem=[]\n",
    "    for y in x:\n",
    "        if y[\"pos\"]==\"名詞\":tem.append(y[\"surface\"])\n",
    "        else:\n",
    "            if len(tem)>1:\n",
    "                long_noun.append(\"\".join(tem))\n",
    "            tem=[]\n",
    "long_noun[:10]"
   ]
  },
  {
   "cell_type": "markdown",
   "metadata": {},
   "source": [
    "## 35. 単語の出現頻度"
   ]
  },
  {
   "cell_type": "markdown",
   "metadata": {},
   "source": [
    "文章中に出現する単語とその出現頻度を求め，出現頻度の高い順に並べよ．"
   ]
  },
  {
   "cell_type": "code",
   "execution_count": 21,
   "metadata": {},
   "outputs": [
    {
     "data": {
      "text/plain": [
       "[('の', 9194),\n",
       " ('。', 7486),\n",
       " ('て', 6868),\n",
       " ('、', 6772),\n",
       " ('は', 6420),\n",
       " ('に', 6243),\n",
       " ('を', 6071),\n",
       " ('と', 5508),\n",
       " ('が', 5337),\n",
       " ('た', 3988)]"
      ]
     },
     "execution_count": 21,
     "metadata": {},
     "output_type": "execute_result"
    }
   ],
   "source": [
    "import collections\n",
    "tem=[]\n",
    "for x in res:\n",
    "    for y in x:\n",
    "        tem.append(y[\"surface\"])\n",
    "top=collections.Counter(tem).most_common(10)\n",
    "top"
   ]
  },
  {
   "cell_type": "markdown",
   "metadata": {},
   "source": [
    "## 36. 頻度上位10語"
   ]
  },
  {
   "cell_type": "markdown",
   "metadata": {},
   "source": [
    "出現頻度が高い10語とその出現頻度をグラフ（例えば棒グラフなど）で表示せよ．"
   ]
  },
  {
   "cell_type": "code",
   "execution_count": 12,
   "metadata": {},
   "outputs": [
    {
     "data": {
      "image/png": "[encoded data removed]",
      "text/plain": [
       "<matplotlib.figure.Figure at 0x105215438>"
      ]
     },
     "metadata": {},
     "output_type": "display_data"
    }
   ],
   "source": [
    "%matplotlib inline\n",
    "import matplotlib.pyplot as plt\n",
    "\n",
    "plt.bar(range(10),[x[1] for x in top],tick_label=[i for i in range(1,11)],align=\"center\")\n",
    "plt.title(\"Frequence\")\n",
    "plt.grid(axis=\"y\")\n",
    "plt.show()"
   ]
  },
  {
   "cell_type": "code",
   "execution_count": 63,
   "metadata": {},
   "outputs": [
    {
     "data": {
      "text/plain": [
       "[('の', 1),\n",
       " ('。', 2),\n",
       " ('て', 3),\n",
       " ('、', 4),\n",
       " ('は', 5),\n",
       " ('に', 6),\n",
       " ('を', 7),\n",
       " ('と', 8),\n",
       " ('が', 9),\n",
       " ('た', 10)]"
      ]
     },
     "execution_count": 63,
     "metadata": {},
     "output_type": "execute_result"
    }
   ],
   "source": [
    "a=dict(zip([x[0] for x in top],list(range(1,11))))\n",
    "list(a.items())"
   ]
  },
  {
   "cell_type": "markdown",
   "metadata": {},
   "source": [
    "## 37. 「猫」と共起頻度の高い上位10語"
   ]
  },
  {
   "cell_type": "markdown",
   "metadata": {},
   "source": [
    "「猫」とよく共起する（共起頻度が高い）10語とその出現頻度をグラフ（例えば棒グラフなど）で表示せよ．"
   ]
  },
  {
   "cell_type": "code",
   "execution_count": 15,
   "metadata": {},
   "outputs": [
    {
     "data": {
      "image/png": "[encoded data removed]",
      "text/plain": [
       "<matplotlib.figure.Figure at 0x1052219b0>"
      ]
     },
     "metadata": {},
     "output_type": "display_data"
    }
   ],
   "source": [
    "ans=[]\n",
    "for x in res:\n",
    "    for index,value in enumerate(x):\n",
    "        if value[\"base\"]==\"猫\":\n",
    "            if x[index-1][\"pos\"]!=\"記号\": ans.append(x[index-1][\"base\"])\n",
    "            if x[index+1][\"pos\"]!=\"記号\": ans.append(x[index+1][\"base\"])\n",
    "neko_top=collections.Counter(ans).most_common(10)\n",
    "plt.bar(range(10),[x[1] for x in neko_top],tick_label=[i for i in range(1,11)],align=\"center\")\n",
    "plt.grid(axis=\"y\")\n",
    "plt.show()"
   ]
  },
  {
   "cell_type": "code",
   "execution_count": 14,
   "metadata": {},
   "outputs": [
    {
     "data": {
      "text/plain": [
       "[('の', 1),\n",
       " ('だ', 2),\n",
       " ('は', 3),\n",
       " ('に', 4),\n",
       " ('が', 5),\n",
       " ('と', 6),\n",
       " ('を', 7),\n",
       " ('も', 8),\n",
       " ('で', 9),\n",
       " ('より', 10)]"
      ]
     },
     "execution_count": 14,
     "metadata": {},
     "output_type": "execute_result"
    }
   ],
   "source": [
    "a=dict(zip([x[0] for x in neko_top],list(range(1,11))))\n",
    "list(a.items())"
   ]
  },
  {
   "cell_type": "markdown",
   "metadata": {},
   "source": [
    "## 38. ヒストグラム"
   ]
  },
  {
   "cell_type": "markdown",
   "metadata": {},
   "source": [
    "単語の出現頻度のヒストグラム（横軸に出現頻度，縦軸に出現頻度をとる単語の種類数を棒グラフで表したもの）を描け．"
   ]
  },
  {
   "cell_type": "code",
   "execution_count": 24,
   "metadata": {},
   "outputs": [
    {
     "data": {
      "image/png": "[encoded data removed]",
      "text/plain": [
       "<matplotlib.figure.Figure at 0x122284b00>"
      ]
     },
     "metadata": {},
     "output_type": "display_data"
    }
   ],
   "source": [
    "hist=[x[1] for x in collections.Counter(tem).most_common()]\n",
    "\n",
    "plt.hist(hist,bins=16,range=(1,16))\n",
    "plt.xlim(0,16)\n",
    "plt.show()"
   ]
  },
  {
   "cell_type": "markdown",
   "metadata": {},
   "source": [
    "## 39. Zipfの法則"
   ]
  },
  {
   "cell_type": "markdown",
   "metadata": {},
   "source": [
    "単語の出現頻度順位を横軸，その出現頻度を縦軸として，両対数グラフをプロットせよ．"
   ]
  },
  {
   "cell_type": "code",
   "execution_count": 23,
   "metadata": {},
   "outputs": [
    {
     "data": {
      "image/png": "[encoded data removed]",
      "text/plain": [
       "<matplotlib.figure.Figure at 0x104e08c18>"
      ]
     },
     "metadata": {},
     "output_type": "display_data"
    }
   ],
   "source": [
    "al=list(zip(*collections.Counter(tem).most_common()))\n",
    "plt.scatter(range(1,len(al[1])+1),al[1])\n",
    "plt.xscale('log')\n",
    "plt.yscale('log')\n",
    "plt.show()"
   ]
  },
  {
   "cell_type": "code",
   "execution_count": null,
   "metadata": {},
   "outputs": [],
   "source": []
  }
 ],
 "metadata": {
  "kernelspec": {
   "display_name": "Python 3",
   "language": "python",
   "name": "python3"
  },
  "language_info": {
   "codemirror_mode": {
    "name": "ipython",
    "version": 3
   },
   "file_extension": ".py",
   "mimetype": "text/x-python",
   "name": "python",
   "nbconvert_exporter": "python",
   "pygments_lexer": "ipython3",
   "version": "3.6.3"
  }
 },
 "nbformat": 4,
 "nbformat_minor": 2
}
