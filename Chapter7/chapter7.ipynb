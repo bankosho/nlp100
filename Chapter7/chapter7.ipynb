{
 "cells": [
  {
   "cell_type": "markdown",
   "metadata": {},
   "source": [
    "## chapter 7"
   ]
  },
  {
   "cell_type": "markdown",
   "metadata": {
    "collapsed": true
   },
   "source": [
    "### 60. KVSの構築"
   ]
  },
  {
   "cell_type": "markdown",
   "metadata": {},
   "source": [
    "Key-Value-Store (KVS) を用い，アーティスト名（name）から活動場所（area）を検索するためのデータベースを構築せよ．"
   ]
  },
  {
   "cell_type": "code",
   "execution_count": 6,
   "metadata": {},
   "outputs": [
    {
     "name": "stdout",
     "output_type": "stream",
     "text": [
      "864789\n"
     ]
    }
   ],
   "source": [
    "import json\n",
    "import leveldb\n",
    "def build():\n",
    "    a=leveldb.LevelDB(\"artist_name_area_1\") \n",
    "    with open(\"/Users/banootorishou/Programming2/artist.json\") as f: \n",
    "        for line in f:\n",
    "            dict_1=json.loads(line) \n",
    "            name=dict_1.get(\"name\")\n",
    "            area=dict_1.get(\"area\",'')\n",
    "            a.Put(name.encode(),area.encode()) \n",
    "build()\n",
    "print(len(list(leveldb.LevelDB(\"artist_name_area_1\").RangeIter())))"
   ]
  },
  {
   "cell_type": "markdown",
   "metadata": {},
   "source": [
    "### 61. KVSの検索"
   ]
  },
  {
   "cell_type": "markdown",
   "metadata": {},
   "source": [
    "60で構築したデータベースを用い，特定の（指定された）アーティストの活動場所を取得せよ．"
   ]
  },
  {
   "cell_type": "code",
   "execution_count": 34,
   "metadata": {},
   "outputs": [
    {
     "name": "stdout",
     "output_type": "stream",
     "text": [
      "the name of artist:The High Level Ranters\n",
      "このアーティストの活動場所は登録されていない\n"
     ]
    }
   ],
   "source": [
    "artist=input(\"the name of artist:\")\n",
    "if artist.encode() in list(leveldb.LevelDB(\"artist_name_area_1\").RangeIter(include_value=False)):\n",
    "    x=leveldb.LevelDB(\"artist_name_area_1\").Get(artist.encode())\n",
    "    if x.decode()!='':\n",
    "        print(x.decode())\n",
    "    else:\n",
    "        print(\"このアーティストの活動場所は登録されていない\")\n",
    "else:\n",
    "    print(\"このアーティストは登録されていない\")"
   ]
  },
  {
   "cell_type": "markdown",
   "metadata": {
    "collapsed": true
   },
   "source": [
    "## 62. KVS内の反復処理"
   ]
  },
  {
   "cell_type": "markdown",
   "metadata": {},
   "source": [
    "60で構築したデータベースを用い，活動場所が「Japan」となっているアーティスト数を求めよ．"
   ]
  },
  {
   "cell_type": "code",
   "execution_count": 35,
   "metadata": {},
   "outputs": [
    {
     "name": "stdout",
     "output_type": "stream",
     "text": [
      "21946\n"
     ]
    }
   ],
   "source": [
    "count=0\n",
    "for artist,area in leveldb.LevelDB(\"artist_name_area_1\").RangeIter():\n",
    "    if area.decode()=='Japan':\n",
    "        count+=1\n",
    "print(count)"
   ]
  },
  {
   "cell_type": "markdown",
   "metadata": {},
   "source": [
    "### 63. オブジェクトを値に格納したKVS"
   ]
  },
  {
   "cell_type": "markdown",
   "metadata": {},
   "source": [
    "KVSを用い，アーティスト名（name）からタグと被タグ数（タグ付けされた回数）のリストを検索するためのデータベースを構築せよ．さらに，ここで構築したデータベースを用い，アーティスト名からタグと被タグ数を検索せよ．"
   ]
  },
  {
   "cell_type": "code",
   "execution_count": null,
   "metadata": {
    "collapsed": true
   },
   "outputs": [],
   "source": []
  }
 ],
 "metadata": {
  "kernelspec": {
   "display_name": "Python 3",
   "language": "python",
   "name": "python3"
  },
  "language_info": {
   "codemirror_mode": {
    "name": "ipython",
    "version": 3
   },
   "file_extension": ".py",
   "mimetype": "text/x-python",
   "name": "python",
   "nbconvert_exporter": "python",
   "pygments_lexer": "ipython3",
   "version": "3.6.3"
  }
 },
 "nbformat": 4,
 "nbformat_minor": 2
}
