{
 "cells": [
  {
   "cell_type": "code",
   "execution_count": 3,
   "metadata": {
    "collapsed": true
   },
   "outputs": [],
   "source": [
    "import xml.etree.ElementTree as ET\n",
    "import xml.dom.minidom as minidom\n",
    "\n",
    "root = ET.Element('root')\n",
    "\n",
    "sub = ET.SubElement(root, 'A')\n",
    "sub.set(\"wan\",\"wen\")\n",
    "\n",
    "subsub = ET.SubElement(sub, 'A')\n",
    "#subsub.set('key1', 'value1')\n",
    "#subsub.text = 'text1'\n",
    "\n",
    "\n",
    "\n",
    "subsubsub2 = ET.SubElement(subsub, 'C')\n",
    "subsubsub2.set('key2', 'value2')\n",
    "subsubsub2.text = 'text2'\n",
    "\n",
    "sub = ET.SubElement(root, 'B')\n",
    "\n",
    "subsub = ET.SubElement(sub, 'A')\n",
    "subsub.set('key3', 'value3')\n",
    "subsub.text = 'text3'\n",
    "\n",
    "subsub2 = ET.SubElement(sub, 'A')\n",
    "subsub2.set('key4', 'value4')\n",
    "subsub2.text = 'text4'\n",
    "\n",
    "string = ET.tostring(root, 'utf-8')\n",
    "pretty_string = minidom.parseString(string).toprettyxml(indent='  ')\n",
    "\n",
    "with open('test.xml', 'w') as f:\n",
    "    f.write(pretty_string)"
   ]
  },
  {
   "cell_type": "code",
   "execution_count": 4,
   "metadata": {},
   "outputs": [
    {
     "name": "stdout",
     "output_type": "stream",
     "text": [
      "<?xml version=\"1.0\" ?>\r\n",
      "<root>\r\n",
      "  <A wan=\"wen\">\r\n",
      "    <A>\r\n",
      "      <C key2=\"value2\">text2</C>\r\n",
      "    </A>\r\n",
      "  </A>\r\n",
      "  <B>\r\n",
      "    <A key3=\"value3\">text3</A>\r\n",
      "    <A key4=\"value4\">text4</A>\r\n",
      "  </B>\r\n",
      "</root>\r\n"
     ]
    }
   ],
   "source": [
    "!cat test.xml"
   ]
  },
  {
   "cell_type": "code",
   "execution_count": 46,
   "metadata": {},
   "outputs": [
    {
     "name": "stdout",
     "output_type": "stream",
     "text": [
      "text2\n"
     ]
    }
   ],
   "source": [
    "tree=ET.parse(\"test.xml\") #制作tree\n",
    "root=tree.getroot()\n",
    "#print(root.find(\"./A/C\"))\n",
    "for a in root.findall(\".//*\"): \n",
    "    if a.attrib=={'wan':'wen'}:\n",
    "        print(a.find(\"./A/C\").text)\n",
    "#for a in root.findall(\".//*\"): \n",
    "#    print(a.attrib)"
   ]
  },
  {
   "cell_type": "code",
   "execution_count": 65,
   "metadata": {
    "collapsed": true
   },
   "outputs": [],
   "source": [
    "dict_1={2:\"wahud\",3:\"wded\"}\n",
    "dict_2={2:\"diwd\",3:\"dwid\"}"
   ]
  },
  {
   "cell_type": "code",
   "execution_count": 68,
   "metadata": {},
   "outputs": [
    {
     "name": "stdout",
     "output_type": "stream",
     "text": [
      "diwd\n",
      "dwid\n"
     ]
    }
   ],
   "source": [
    "for a,b in dict_1.items():\n",
    "    print(dict_2[a])"
   ]
  },
  {
   "cell_type": "code",
   "execution_count": null,
   "metadata": {
    "collapsed": true
   },
   "outputs": [],
   "source": []
  },
  {
   "cell_type": "code",
   "execution_count": 18,
   "metadata": {
    "collapsed": true
   },
   "outputs": [],
   "source": [
    "import json\n",
    "with open(\"exmple.json\",'w') as t:\n",
    "    json.dump({\"book1\":{\"title\":\"we\",\"year\":\"1345\"}},t)"
   ]
  },
  {
   "cell_type": "code",
   "execution_count": 2,
   "metadata": {},
   "outputs": [
    {
     "name": "stdout",
     "output_type": "stream",
     "text": [
      "<class 'str'>\n"
     ]
    }
   ],
   "source": [
    "import json\n",
    "f=open(\"abc.json\")\n",
    "#print(type(f))\n",
    "#s=json.loads(f)\n",
    "#print(type(s))\n",
    "#print(s[\"book1\"])\n",
    "for a in f:\n",
    "    print(type(a))\n",
    "    break\n"
   ]
  },
  {
   "cell_type": "code",
   "execution_count": 4,
   "metadata": {},
   "outputs": [
    {
     "data": {
      "text/plain": [
       "{'title': 'we', 'year': '1345'}"
      ]
     },
     "execution_count": 4,
     "metadata": {},
     "output_type": "execute_result"
    }
   ],
   "source": [
    "with open(\"exmple.json\") as t:\n",
    "    for i in t:\n",
    "        s=json.loads(i)\n",
    "s.get(\"book1\")"
   ]
  },
  {
   "cell_type": "code",
   "execution_count": 34,
   "metadata": {},
   "outputs": [
    {
     "name": "stdout",
     "output_type": "stream",
     "text": [
      "<class 'dict'>\n"
     ]
    }
   ],
   "source": [
    "f = open('exmple.json', 'r')\n",
    "json_dict = json.load(f)\n",
    "print(format(type(json_dict)))"
   ]
  },
  {
   "cell_type": "code",
   "execution_count": 29,
   "metadata": {},
   "outputs": [
    {
     "data": {
      "text/plain": [
       "dict"
      ]
     },
     "execution_count": 29,
     "metadata": {},
     "output_type": "execute_result"
    }
   ],
   "source": [
    "i={\"2\":\"si\"}\n",
    "type(i)"
   ]
  },
  {
   "cell_type": "code",
   "execution_count": 31,
   "metadata": {},
   "outputs": [
    {
     "name": "stdout",
     "output_type": "stream",
     "text": [
      "{'2': 'si'}\n"
     ]
    }
   ],
   "source": [
    "print(i)"
   ]
  },
  {
   "cell_type": "code",
   "execution_count": 32,
   "metadata": {},
   "outputs": [
    {
     "name": "stdout",
     "output_type": "stream",
     "text": [
      "{'book1': {'title': 'we', 'year': '1345'}}\n"
     ]
    }
   ],
   "source": [
    "print(json_dict)"
   ]
  },
  {
   "cell_type": "code",
   "execution_count": 36,
   "metadata": {},
   "outputs": [
    {
     "name": "stdout",
     "output_type": "stream",
     "text": [
      "<class 'dict'>\n"
     ]
    }
   ],
   "source": [
    "json_str = '''\n",
    "{\n",
    "    \"test\":\"json\",\n",
    "    \"test2\":\"json2\"\n",
    "}\n",
    "'''\n",
    " \n",
    "json_dict = json.loads(json_str)\n",
    "print(format(type(json_dict)))"
   ]
  },
  {
   "cell_type": "code",
   "execution_count": 8,
   "metadata": {},
   "outputs": [
    {
     "name": "stdout",
     "output_type": "stream",
     "text": [
      "Help on package plyvel:\n",
      "\n",
      "NAME\n",
      "    plyvel - Plyvel, a fast and feature-rich Python interface to LevelDB.\n",
      "\n",
      "PACKAGE CONTENTS\n",
      "    _plyvel\n",
      "    _version\n",
      "\n",
      "FUNCTIONS\n",
      "    destroy_db(...)\n",
      "        destroy_db(name)\n",
      "    \n",
      "    repair_db(...)\n",
      "        repair_db(name, *, paranoid_checks=None, write_buffer_size=None, max_open_files=None, lru_cache_size=None, block_size=None, block_restart_interval=None, max_file_size=None, compression='snappy', int bloom_filter_bits=0, comparator=None, bytes comparator_name=None)\n",
      "\n",
      "DATA\n",
      "    __leveldb_version__ = '1.20'\n",
      "\n",
      "VERSION\n",
      "    1.0.4\n",
      "\n",
      "FILE\n",
      "    /anaconda3/lib/python3.6/site-packages/plyvel/__init__.py\n",
      "\n",
      "\n"
     ]
    }
   ],
   "source": [
    "import plyvel\n",
    "help(plyvel)\n"
   ]
  },
  {
   "cell_type": "code",
   "execution_count": 9,
   "metadata": {
    "collapsed": true
   },
   "outputs": [],
   "source": [
    "a=[('2','two'),('3','three')]"
   ]
  },
  {
   "cell_type": "code",
   "execution_count": 12,
   "metadata": {},
   "outputs": [
    {
     "name": "stdout",
     "output_type": "stream",
     "text": [
      "two\n",
      "three\n"
     ]
    }
   ],
   "source": [
    "for i in a:\n",
    "    print(i[1])"
   ]
  },
  {
   "cell_type": "code",
   "execution_count": 13,
   "metadata": {},
   "outputs": [
    {
     "name": "stdout",
     "output_type": "stream",
     "text": [
      "<class '_io.TextIOWrapper'>\n"
     ]
    }
   ],
   "source": [
    "with open(\"nlp.txt\") as f:\n",
    "    print(type(f))"
   ]
  },
  {
   "cell_type": "code",
   "execution_count": 23,
   "metadata": {
    "collapsed": true
   },
   "outputs": [],
   "source": [
    "f=open(\"nlp.txt\")"
   ]
  },
  {
   "cell_type": "code",
   "execution_count": 24,
   "metadata": {},
   "outputs": [
    {
     "data": {
      "text/plain": [
       "34"
      ]
     },
     "execution_count": 24,
     "metadata": {},
     "output_type": "execute_result"
    }
   ],
   "source": [
    "len(list(f))"
   ]
  },
  {
   "cell_type": "code",
   "execution_count": 5,
   "metadata": {},
   "outputs": [
    {
     "name": "stdout",
     "output_type": "stream",
     "text": [
      "x=3\n",
      "y=4\n",
      "7\n"
     ]
    }
   ],
   "source": [
    "a=int(input(\"x=\"))\n",
    "b=int(input(\"y=\"))\n",
    "print(a+b)"
   ]
  },
  {
   "cell_type": "code",
   "execution_count": 6,
   "metadata": {},
   "outputs": [
    {
     "name": "stdout",
     "output_type": "stream",
     "text": [
      "Help on module leveldb:\n",
      "\n",
      "NAME\n",
      "    leveldb\n",
      "\n",
      "CLASSES\n",
      "    builtins.Exception(builtins.BaseException)\n",
      "        LevelDBError\n",
      "    builtins.object\n",
      "        LevelDB\n",
      "        Snapshot\n",
      "        WriteBatch\n",
      "    \n",
      "    class LevelDB(builtins.object)\n",
      "     |  LevelDB(filename, **kwargs) -> leveldb object\n",
      "     |  \n",
      "     |  Open a LevelDB database, from the given directory.\n",
      "     |  \n",
      "     |  Only the parameter filename is mandatory.\n",
      "     |  \n",
      "     |  filename                                    the database directory\n",
      "     |  create_if_missing (default: True)           if True, creates a new database if none exists\n",
      "     |  error_if_exists   (default: False)          if True, raises and error if the database already exists\n",
      "     |  paranoid_checks   (default: False)          if True, raises an error as soon as an internal corruption is detected\n",
      "     |  block_cache_size  (default: 8 * (2 << 20))  maximum allowed size for the block cache in bytes\n",
      "     |  write_buffer_size (default  2 * (2 << 20))  \n",
      "     |  block_size        (default: 4096)           unit of transfer for the block cache in bytes\n",
      "     |  max_open_files:   (default: 1000)\n",
      "     |  block_restart_interval           \n",
      "     |  \n",
      "     |  Snappy compression is used, if available.\n",
      "     |  \n",
      "     |  Some methods support the following parameters, having these semantics:\n",
      "     |  \n",
      "     |   verify_checksum: iff True, the operation will check for checksum mismatches\n",
      "     |   fill_cache:      iff True, the operation will fill the cache with the data read\n",
      "     |   sync:            iff True, the operation will be guaranteed to sync the operation to disk\n",
      "     |  \n",
      "     |  Methods supported are:\n",
      "     |  \n",
      "     |   Get(key, verify_checksums = False, fill_cache = True): get value, raises KeyError if key not found\n",
      "     |  \n",
      "     |      key: the query key\n",
      "     |  \n",
      "     |   Put(key, value, sync = False): put key/value pair\n",
      "     |  \n",
      "     |      key: the key\n",
      "     |      value: the value\n",
      "     |  \n",
      "     |   Delete(key, sync = False): delete key/value pair, raises no error kf key not found\n",
      "     |  \n",
      "     |      key: the key\n",
      "     |  \n",
      "     |   Write(write_batch, sync = False): apply multiple put/delete operations atomatically\n",
      "     |  \n",
      "     |      write_batch: the WriteBatch object holding the operations\n",
      "     |  \n",
      "     |   RangeIter(key_from = None, key_to = None, include_value = True, verify_checksums = False, fill_cache = True): return iterator\n",
      "     |  \n",
      "     |      key_from: if not None: defines lower bound (inclusive) for iterator\n",
      "     |      key_to:   if not None: defined upper bound (inclusive) for iterator\n",
      "     |      include_value: if True, iterator returns key/value 2-tuples, otherwise, just keys\n",
      "     |  \n",
      "     |   GetStats(): get a string of runtime information\n",
      "     |  \n",
      "     |  Methods defined here:\n",
      "     |  \n",
      "     |  CompactRange(...)\n",
      "     |      Compact keys in the range\n",
      "     |  \n",
      "     |  CreateSnapshot(...)\n",
      "     |      create a new snapshot from current DB state\n",
      "     |  \n",
      "     |  Delete(...)\n",
      "     |      delete a value in the database\n",
      "     |  \n",
      "     |  Get(...)\n",
      "     |      get a value from the database\n",
      "     |  \n",
      "     |  GetStats(...)\n",
      "     |      get a mapping of all DB statistics\n",
      "     |  \n",
      "     |  Put(...)\n",
      "     |      add a key/value pair to database, with an optional synchronous disk write\n",
      "     |  \n",
      "     |  RangeIter(...)\n",
      "     |      key/value range scan\n",
      "     |  \n",
      "     |  Write(...)\n",
      "     |      apply a write-batch\n",
      "     |  \n",
      "     |  __init__(self, /, *args, **kwargs)\n",
      "     |      Initialize self.  See help(type(self)) for accurate signature.\n",
      "     |  \n",
      "     |  __new__(*args, **kwargs) from builtins.type\n",
      "     |      Create and return a new object.  See help(type) for accurate signature.\n",
      "    \n",
      "    class LevelDBError(builtins.Exception)\n",
      "     |  Common base class for all non-exit exceptions.\n",
      "     |  \n",
      "     |  Method resolution order:\n",
      "     |      LevelDBError\n",
      "     |      builtins.Exception\n",
      "     |      builtins.BaseException\n",
      "     |      builtins.object\n",
      "     |  \n",
      "     |  Data descriptors defined here:\n",
      "     |  \n",
      "     |  __weakref__\n",
      "     |      list of weak references to the object (if defined)\n",
      "     |  \n",
      "     |  ----------------------------------------------------------------------\n",
      "     |  Methods inherited from builtins.Exception:\n",
      "     |  \n",
      "     |  __init__(self, /, *args, **kwargs)\n",
      "     |      Initialize self.  See help(type(self)) for accurate signature.\n",
      "     |  \n",
      "     |  __new__(*args, **kwargs) from builtins.type\n",
      "     |      Create and return a new object.  See help(type) for accurate signature.\n",
      "     |  \n",
      "     |  ----------------------------------------------------------------------\n",
      "     |  Methods inherited from builtins.BaseException:\n",
      "     |  \n",
      "     |  __delattr__(self, name, /)\n",
      "     |      Implement delattr(self, name).\n",
      "     |  \n",
      "     |  __getattribute__(self, name, /)\n",
      "     |      Return getattr(self, name).\n",
      "     |  \n",
      "     |  __reduce__(...)\n",
      "     |      helper for pickle\n",
      "     |  \n",
      "     |  __repr__(self, /)\n",
      "     |      Return repr(self).\n",
      "     |  \n",
      "     |  __setattr__(self, name, value, /)\n",
      "     |      Implement setattr(self, name, value).\n",
      "     |  \n",
      "     |  __setstate__(...)\n",
      "     |  \n",
      "     |  __str__(self, /)\n",
      "     |      Return str(self).\n",
      "     |  \n",
      "     |  with_traceback(...)\n",
      "     |      Exception.with_traceback(tb) --\n",
      "     |      set self.__traceback__ to tb and return self.\n",
      "     |  \n",
      "     |  ----------------------------------------------------------------------\n",
      "     |  Data descriptors inherited from builtins.BaseException:\n",
      "     |  \n",
      "     |  __cause__\n",
      "     |      exception cause\n",
      "     |  \n",
      "     |  __context__\n",
      "     |      exception context\n",
      "     |  \n",
      "     |  __dict__\n",
      "     |  \n",
      "     |  __suppress_context__\n",
      "     |  \n",
      "     |  __traceback__\n",
      "     |  \n",
      "     |  args\n",
      "    \n",
      "    class Snapshot(builtins.object)\n",
      "     |  Methods defined here:\n",
      "     |  \n",
      "     |  Get(...)\n",
      "     |      get a value from the snapshot\n",
      "     |  \n",
      "     |  RangeIter(...)\n",
      "     |      key/value range scan\n",
      "     |  \n",
      "     |  __getattribute__(self, name, /)\n",
      "     |      Return getattr(self, name).\n",
      "     |  \n",
      "     |  __init__(self, /, *args, **kwargs)\n",
      "     |      Initialize self.  See help(type(self)) for accurate signature.\n",
      "     |  \n",
      "     |  __new__(*args, **kwargs) from builtins.type\n",
      "     |      Create and return a new object.  See help(type) for accurate signature.\n",
      "    \n",
      "    class WriteBatch(builtins.object)\n",
      "     |  WriteBatch() -> write batch object\n",
      "     |  \n",
      "     |  Create an object, which can hold a list of database operations, which\n",
      "     |  can be applied atomically.\n",
      "     |  \n",
      "     |  Methods supported are:\n",
      "     |  \n",
      "     |   Put(key, value): add put operation to batch\n",
      "     |  \n",
      "     |      key: the key\n",
      "     |      value: the value\n",
      "     |  \n",
      "     |   Delete(key): add delete operation to batch\n",
      "     |  \n",
      "     |      key: the key\n",
      "     |  \n",
      "     |  Methods defined here:\n",
      "     |  \n",
      "     |  Delete(...)\n",
      "     |      add a delete op to batch\n",
      "     |  \n",
      "     |  Put(...)\n",
      "     |      add a put op to batch\n",
      "     |  \n",
      "     |  __init__(self, /, *args, **kwargs)\n",
      "     |      Initialize self.  See help(type(self)) for accurate signature.\n",
      "     |  \n",
      "     |  __new__(*args, **kwargs) from builtins.type\n",
      "     |      Create and return a new object.  See help(type) for accurate signature.\n",
      "\n",
      "FUNCTIONS\n",
      "    DestroyDB(...)\n",
      "        leveldb.DestroyDB(db_dir)\n",
      "        \n",
      "        Attempts to recover as much data as possible from a corrupt database.\n",
      "    \n",
      "    RepairDB(...)\n",
      "        leveldb.RepairDB(db_dir)\n",
      "        \n",
      "        Attempts to recover as much data as possible from a corrupt database.\n",
      "\n",
      "FILE\n",
      "    /anaconda3/lib/python3.6/site-packages/leveldb.cpython-36m-darwin.so\n",
      "\n",
      "\n"
     ]
    }
   ],
   "source": [
    "import leveldb\n",
    "help(leveldb)"
   ]
  },
  {
   "cell_type": "code",
   "execution_count": null,
   "metadata": {
    "collapsed": true
   },
   "outputs": [],
   "source": []
  }
 ],
 "metadata": {
  "kernelspec": {
   "display_name": "Python 3",
   "language": "python",
   "name": "python3"
  },
  "language_info": {
   "codemirror_mode": {
    "name": "ipython",
    "version": 3
   },
   "file_extension": ".py",
   "mimetype": "text/x-python",
   "name": "python",
   "nbconvert_exporter": "python",
   "pygments_lexer": "ipython3",
   "version": "3.6.3"
  }
 },
 "nbformat": 4,
 "nbformat_minor": 2
}
